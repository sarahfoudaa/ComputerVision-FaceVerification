{
  "nbformat": 4,
  "nbformat_minor": 0,
  "metadata": {
    "colab": {
      "provenance": [],
      "gpuType": "T4"
    },
    "kernelspec": {
      "name": "python3",
      "display_name": "Python 3"
    },
    "language_info": {
      "name": "python"
    },
    "gpuClass": "standard"
  },
  "cells": [
    {
      "cell_type": "markdown",
      "source": [
        "# All Libraries"
      ],
      "metadata": {
        "id": "Zr-Pitzld79c"
      }
    },
    {
      "cell_type": "code",
      "source": [
        "import pickle\n",
        "import numpy\n",
        "import tensorflow\n",
        "import tensorflow as tf\n",
        "import pandas as pd\n",
        "import numpy as np\n",
        "import matplotlib.pyplot as plt\n",
        "import matplotlib.image as mpimg\n",
        "import seaborn as sns\n",
        "from tensorflow.keras.models import Model\n",
        "from tensorflow.keras.layers import Layer, Conv2D, Dense, MaxPooling2D, Input, Flatten\n",
        "import tensorflow as tf\n",
        "from keras.callbacks import ModelCheckpoint, ReduceLROnPlateau , EarlyStopping\n",
        "%matplotlib inline\n",
        "import warnings\n",
        "warnings.filterwarnings('ignore')\n",
        "\n",
        "sns.set(style='white', context='notebook', palette='deep')"
      ],
      "metadata": {
        "id": "Z23ImJ4kd_qi"
      },
      "execution_count": null,
      "outputs": []
    },
    {
      "cell_type": "markdown",
      "source": [
        "# Google drive mount"
      ],
      "metadata": {
        "id": "zs_43zr4zOIK"
      }
    },
    {
      "cell_type": "code",
      "source": [
        "from google.colab import drive\n",
        "\n",
        "drive.mount('/content/gdrive/', force_remount=True)"
      ],
      "metadata": {
        "colab": {
          "base_uri": "https://localhost:8080/"
        },
        "id": "2XnjSFmvzVAs",
        "outputId": "ac6763d0-2fa7-47b2-e98a-da4c0a8e11c9"
      },
      "execution_count": null,
      "outputs": [
        {
          "output_type": "stream",
          "name": "stdout",
          "text": [
            "Mounted at /content/gdrive/\n"
          ]
        }
      ]
    },
    {
      "cell_type": "code",
      "source": [
        "%cd gdrive/MyDrive"
      ],
      "metadata": {
        "colab": {
          "base_uri": "https://localhost:8080/"
        },
        "id": "1qRX7y3LzXAv",
        "outputId": "04bb95fe-f588-49ec-924f-b86d89b05339"
      },
      "execution_count": null,
      "outputs": [
        {
          "output_type": "stream",
          "name": "stdout",
          "text": [
            "/content/gdrive/MyDrive\n"
          ]
        }
      ]
    },
    {
      "cell_type": "code",
      "source": [
        "from google.colab import drive\n",
        "drive.mount('/content/drive')"
      ],
      "metadata": {
        "colab": {
          "base_uri": "https://localhost:8080/"
        },
        "id": "871NPc85625F",
        "outputId": "877f2bbe-4d1d-410d-b5d7-8e932aa16f0c"
      },
      "execution_count": null,
      "outputs": [
        {
          "output_type": "stream",
          "name": "stdout",
          "text": [
            "Mounted at /content/drive\n"
          ]
        }
      ]
    },
    {
      "cell_type": "code",
      "source": [],
      "metadata": {
        "id": "CKdwmiIQzbK2"
      },
      "execution_count": null,
      "outputs": []
    },
    {
      "cell_type": "markdown",
      "source": [
        "# Data Preparation"
      ],
      "metadata": {
        "id": "SmfblbacdOWg"
      }
    },
    {
      "cell_type": "code",
      "execution_count": null,
      "metadata": {
        "id": "gnoSyTkBdAx-"
      },
      "outputs": [],
      "source": [
        "X_train=pd.read_csv('/content/gdrive/MyDrive/NTI/Automated Video Surveillance/face_verification/dataframes/train.csv')\n",
        "X_test=pd.read_csv('/content/gdrive/MyDrive/NTI/Automated Video Surveillance/face_verification/dataframes/test.csv')\n",
        "X_val=pd.read_csv('/content/gdrive/MyDrive/NTI/Automated Video Surveillance/face_verification/dataframes/val.csv')"
      ]
    },
    {
      "cell_type": "code",
      "source": [],
      "metadata": {
        "id": "uu6PxrcWdlnu"
      },
      "execution_count": null,
      "outputs": []
    },
    {
      "cell_type": "markdown",
      "source": [
        "# Building Model"
      ],
      "metadata": {
        "id": "QKYwSpAPdmF7"
      }
    },
    {
      "cell_type": "code",
      "source": [
        "def building_model():\n",
        "  def make_embedding(): \n",
        "    inp = Input(shape=(100,100,3), name='input_image')\n",
        "    \n",
        "    # First block\n",
        "    c1 = Conv2D(64, (10,10), activation='relu')(inp)\n",
        "    m1 = MaxPooling2D(64, (2,2), padding='same')(c1)\n",
        "    \n",
        "    # Second block\n",
        "    c2 = Conv2D(128, (7,7), activation='relu')(m1)\n",
        "    m2 = MaxPooling2D(64, (2,2), padding='same')(c2)\n",
        "    \n",
        "    # Third block \n",
        "    c3 = Conv2D(128, (4,4), activation='relu')(m2)\n",
        "    m3 = MaxPooling2D(64, (2,2), padding='same')(c3)\n",
        "    \n",
        "    # Final embedding block\n",
        "    c4 = Conv2D(256, (4,4), activation='relu')(m3)\n",
        "    f1 = Flatten()(c4)\n",
        "    d1 = Dense(4096, activation='sigmoid')(f1)\n",
        "    \n",
        "    \n",
        "    \n",
        "    return Model(inputs=[inp], outputs=[d1], name='embedding')\n",
        "    # Siamese L1 Distance class\n",
        "  def L1Dist(input_embedding,validation_embedding):\n",
        "\n",
        "      # Magic happens here - similarity calculation\n",
        "    return tf.math.abs(input_embedding - validation_embedding)\n",
        "\n",
        "  def make_siamese_model(): \n",
        "    \n",
        "    # Anchor image input in the network\n",
        "    input_image = Input(name='input_img', shape=(100,100,3))\n",
        "    \n",
        "    # Validation image in the network \n",
        "    validation_image = Input(name='validation_img', shape=(100,100,3))\n",
        "    \n",
        "    embedding = make_embedding()\n",
        "    # Combine siamese distance components\n",
        " \n",
        "    distances = L1Dist(embedding(input_image), embedding(validation_image))\n",
        "    \n",
        "    # Classification layer\n",
        "    classifier = Dense(3, activation='softmax')(distances)\n",
        "    \n",
        "    return Model(inputs=[input_image, validation_image], outputs=classifier, name='SiameseNetwork')\n",
        "  siamese_model = make_siamese_model()\n",
        "  tf.keras.utils.plot_model(siamese_model, to_file='model.png', show_shapes=True, show_layer_names=True)\n",
        "  return siamese_model\n"
      ],
      "metadata": {
        "id": "x4tE8iOndoWw"
      },
      "execution_count": null,
      "outputs": []
    },
    {
      "cell_type": "code",
      "source": [
        "our_model = building_model()\n",
        "our_model.summary()"
      ],
      "metadata": {
        "colab": {
          "base_uri": "https://localhost:8080/"
        },
        "id": "xBo3MAqNdoyP",
        "outputId": "7a9139a4-158f-4118-e2b3-24aeb9329f7c"
      },
      "execution_count": null,
      "outputs": [
        {
          "output_type": "stream",
          "name": "stdout",
          "text": [
            "Model: \"SiameseNetwork\"\n",
            "__________________________________________________________________________________________________\n",
            " Layer (type)                   Output Shape         Param #     Connected to                     \n",
            "==================================================================================================\n",
            " input_img (InputLayer)         [(None, 100, 100, 3  0           []                               \n",
            "                                )]                                                                \n",
            "                                                                                                  \n",
            " validation_img (InputLayer)    [(None, 100, 100, 3  0           []                               \n",
            "                                )]                                                                \n",
            "                                                                                                  \n",
            " embedding (Functional)         (None, 4096)         38960448    ['input_img[0][0]',              \n",
            "                                                                  'validation_img[0][0]']         \n",
            "                                                                                                  \n",
            " tf.math.subtract (TFOpLambda)  (None, 4096)         0           ['embedding[0][0]',              \n",
            "                                                                  'embedding[1][0]']              \n",
            "                                                                                                  \n",
            " tf.math.abs (TFOpLambda)       (None, 4096)         0           ['tf.math.subtract[0][0]']       \n",
            "                                                                                                  \n",
            " dense_1 (Dense)                (None, 3)            12291       ['tf.math.abs[0][0]']            \n",
            "                                                                                                  \n",
            "==================================================================================================\n",
            "Total params: 38,972,739\n",
            "Trainable params: 38,972,739\n",
            "Non-trainable params: 0\n",
            "__________________________________________________________________________________________________\n"
          ]
        }
      ]
    },
    {
      "cell_type": "code",
      "source": [
        "def train_model(model,train_data,val_data,Nclasses, SHAPE , dataGenerator , EPOCHS , BATCH_SIZE,best_model):\n",
        "\n",
        "  # call generator \n",
        "  # train and val generaator\n",
        "  train_siamese_generator = dataGenerator(data = train_data,n_classes=Nclasses,batch_size=BATCH_SIZE,shape=SHAPE) \n",
        "  val_siamese_generator = dataGenerator(data =val_data,n_classes=Nclasses,batch_size=BATCH_SIZE,shape=SHAPE) \n",
        "  #def __init__(self, data, n_classes, batch_size=32, shape=(100, 100, 3), shuffle=True):\n",
        "\n",
        "  # compile the model\n",
        "  model.compile(optimizer=tf.keras.optimizers.Adam(0.001), loss='categorical_crossentropy', metrics=['accuracy'])\n",
        "\n",
        "  # define callbacks lists\n",
        "  model_checkpoint_callback = ModelCheckpoint(\n",
        "      filepath=best_model,\n",
        "      monitor='loss', \n",
        "      verbose=0, \n",
        "      save_best_only=True, \n",
        "      mode='min')\n",
        "  learning_rate_reduction = ReduceLROnPlateau(monitor='accuracy', \n",
        "                                              patience=3, \n",
        "                                              verbose=1, \n",
        "                                              factor=0.5, \n",
        "                                              min_lr=0.00001)\n",
        "  es = EarlyStopping(monitor=\"loss\", mode=\"min\", verbose=1, patience=10)\n",
        "  callbacks_list = [model_checkpoint_callback, learning_rate_reduction,es]\n",
        "\n",
        "  # fit the model\n",
        "  history = model.fit_generator(generator=train_siamese_generator,\n",
        "                      validation_data=val_siamese_generator,\n",
        "                      epochs=EPOCHS,callbacks=callbacks_list, verbose=2)\n",
        "  return history"
      ],
      "metadata": {
        "id": "3CuqaUo5ec6F"
      },
      "execution_count": null,
      "outputs": []
    },
    {
      "cell_type": "code",
      "source": [
        "# load generator\n",
        "import sys\n",
        "#sys.path.append('/content/drive/MyDrive')\n",
        "\n",
        "\n",
        "sys.path.append('/content/gdrive/MyDrive/NTI/Automated Video Surveillance/face_verification')"
      ],
      "metadata": {
        "id": "JmrQA0j-do0s"
      },
      "execution_count": null,
      "outputs": []
    },
    {
      "cell_type": "code",
      "source": [
        "# import our Generator\n",
        "from Siamese_Generator import SiameseGenerator"
      ],
      "metadata": {
        "id": "o9GKUkDTdo3d"
      },
      "execution_count": null,
      "outputs": []
    },
    {
      "cell_type": "code",
      "source": [
        "our_model"
      ],
      "metadata": {
        "id": "6Ln62I0Qga-w",
        "colab": {
          "base_uri": "https://localhost:8080/"
        },
        "outputId": "1f7e918f-e1be-4f6b-e9ee-1f9a594056ae"
      },
      "execution_count": null,
      "outputs": [
        {
          "output_type": "execute_result",
          "data": {
            "text/plain": [
              "<keras.engine.functional.Functional at 0x7f10d99d6080>"
            ]
          },
          "metadata": {},
          "execution_count": 10
        }
      ]
    },
    {
      "cell_type": "markdown",
      "source": [
        "# Training Model"
      ],
      "metadata": {
        "id": "Ql0FO8LXdpkz"
      }
    },
    {
      "cell_type": "code",
      "source": [
        "history = train_model(model=our_model, train_data=X_train, val_data=X_val, Nclasses=3, SHAPE=(100,100,3), dataGenerator=SiameseGenerator, EPOCHS=100, BATCH_SIZE=32, best_model='/content/gdrive/MyDrive/NTI/Automated Video Surveillance/face_verification/best.h5')"
      ],
      "metadata": {
        "colab": {
          "base_uri": "https://localhost:8080/"
        },
        "id": "aWeJ4ufv_AtT",
        "outputId": "98c0cfd2-ee10-4afb-d91a-ce8dd840d477"
      },
      "execution_count": null,
      "outputs": [
        {
          "output_type": "stream",
          "name": "stdout",
          "text": [
            "Epoch 1/100\n",
            "40/40 - 1048s - loss: 0.6639 - accuracy: 0.5289 - val_loss: 0.5317 - val_accuracy: 0.6781 - lr: 0.0010 - 1048s/epoch - 26s/step\n",
            "Epoch 2/100\n",
            "40/40 - 27s - loss: 0.5615 - accuracy: 0.6984 - val_loss: 0.5141 - val_accuracy: 0.7125 - lr: 0.0010 - 27s/epoch - 670ms/step\n",
            "Epoch 3/100\n",
            "40/40 - 23s - loss: 0.5787 - accuracy: 0.7570 - val_loss: 0.5270 - val_accuracy: 0.7719 - lr: 0.0010 - 23s/epoch - 585ms/step\n",
            "Epoch 4/100\n",
            "40/40 - 27s - loss: 0.5387 - accuracy: 0.7812 - val_loss: 0.5208 - val_accuracy: 0.7906 - lr: 0.0010 - 27s/epoch - 672ms/step\n",
            "Epoch 5/100\n",
            "40/40 - 29s - loss: 0.5208 - accuracy: 0.7648 - val_loss: 0.5075 - val_accuracy: 0.8938 - lr: 0.0010 - 29s/epoch - 720ms/step\n",
            "Epoch 6/100\n",
            "40/40 - 24s - loss: 0.5268 - accuracy: 0.7930 - val_loss: 0.5079 - val_accuracy: 0.7312 - lr: 0.0010 - 24s/epoch - 596ms/step\n",
            "Epoch 7/100\n",
            "40/40 - 26s - loss: 0.5102 - accuracy: 0.7508 - val_loss: 0.4920 - val_accuracy: 0.8188 - lr: 0.0010 - 26s/epoch - 649ms/step\n",
            "Epoch 8/100\n",
            "40/40 - 27s - loss: 0.5028 - accuracy: 0.7555 - val_loss: 0.4777 - val_accuracy: 0.8031 - lr: 0.0010 - 27s/epoch - 685ms/step\n",
            "Epoch 9/100\n",
            "\n",
            "Epoch 9: ReduceLROnPlateau reducing learning rate to 0.0005000000237487257.\n",
            "40/40 - 23s - loss: 0.5364 - accuracy: 0.7633 - val_loss: 0.4902 - val_accuracy: 0.7531 - lr: 0.0010 - 23s/epoch - 571ms/step\n",
            "Epoch 10/100\n",
            "40/40 - 27s - loss: 0.4885 - accuracy: 0.7500 - val_loss: 0.4781 - val_accuracy: 0.7406 - lr: 5.0000e-04 - 27s/epoch - 670ms/step\n",
            "Epoch 11/100\n",
            "40/40 - 24s - loss: 0.5011 - accuracy: 0.7453 - val_loss: 0.4714 - val_accuracy: 0.7437 - lr: 5.0000e-04 - 24s/epoch - 599ms/step\n",
            "Epoch 12/100\n",
            "\n",
            "Epoch 12: ReduceLROnPlateau reducing learning rate to 0.0002500000118743628.\n",
            "40/40 - 27s - loss: 0.4800 - accuracy: 0.7516 - val_loss: 0.4733 - val_accuracy: 0.7375 - lr: 5.0000e-04 - 27s/epoch - 676ms/step\n",
            "Epoch 13/100\n",
            "40/40 - 29s - loss: 0.4783 - accuracy: 0.7500 - val_loss: 0.4632 - val_accuracy: 0.7469 - lr: 2.5000e-04 - 29s/epoch - 728ms/step\n",
            "Epoch 14/100\n",
            "40/40 - 28s - loss: 0.4731 - accuracy: 0.7531 - val_loss: 0.4616 - val_accuracy: 0.7437 - lr: 2.5000e-04 - 28s/epoch - 708ms/step\n",
            "Epoch 15/100\n",
            "\n",
            "Epoch 15: ReduceLROnPlateau reducing learning rate to 0.0001250000059371814.\n",
            "40/40 - 28s - loss: 0.4712 - accuracy: 0.7539 - val_loss: 0.4602 - val_accuracy: 0.7437 - lr: 2.5000e-04 - 28s/epoch - 707ms/step\n",
            "Epoch 16/100\n",
            "40/40 - 28s - loss: 0.4699 - accuracy: 0.7531 - val_loss: 0.4706 - val_accuracy: 0.7469 - lr: 1.2500e-04 - 28s/epoch - 701ms/step\n",
            "Epoch 17/100\n",
            "40/40 - 28s - loss: 0.4690 - accuracy: 0.7547 - val_loss: 0.4594 - val_accuracy: 0.7406 - lr: 1.2500e-04 - 28s/epoch - 703ms/step\n",
            "Epoch 18/100\n",
            "\n",
            "Epoch 18: ReduceLROnPlateau reducing learning rate to 6.25000029685907e-05.\n",
            "40/40 - 28s - loss: 0.4683 - accuracy: 0.7516 - val_loss: 0.4579 - val_accuracy: 0.7437 - lr: 1.2500e-04 - 28s/epoch - 708ms/step\n",
            "Epoch 19/100\n",
            "40/40 - 28s - loss: 0.4681 - accuracy: 0.7539 - val_loss: 0.4575 - val_accuracy: 0.7437 - lr: 6.2500e-05 - 28s/epoch - 702ms/step\n",
            "Epoch 20/100\n",
            "40/40 - 28s - loss: 0.4675 - accuracy: 0.7539 - val_loss: 0.4572 - val_accuracy: 0.7437 - lr: 6.2500e-05 - 28s/epoch - 705ms/step\n",
            "Epoch 21/100\n",
            "\n",
            "Epoch 21: ReduceLROnPlateau reducing learning rate to 3.125000148429535e-05.\n",
            "40/40 - 28s - loss: 0.4668 - accuracy: 0.7539 - val_loss: 0.4568 - val_accuracy: 0.7437 - lr: 6.2500e-05 - 28s/epoch - 704ms/step\n",
            "Epoch 22/100\n",
            "40/40 - 29s - loss: 0.4660 - accuracy: 0.7547 - val_loss: 0.4568 - val_accuracy: 0.7437 - lr: 3.1250e-05 - 29s/epoch - 718ms/step\n",
            "Epoch 23/100\n",
            "40/40 - 24s - loss: 0.4673 - accuracy: 0.7539 - val_loss: 0.4560 - val_accuracy: 0.7437 - lr: 3.1250e-05 - 24s/epoch - 609ms/step\n",
            "Epoch 24/100\n",
            "\n",
            "Epoch 24: ReduceLROnPlateau reducing learning rate to 1.5625000742147677e-05.\n",
            "40/40 - 28s - loss: 0.4646 - accuracy: 0.7547 - val_loss: 0.4541 - val_accuracy: 0.7437 - lr: 3.1250e-05 - 28s/epoch - 699ms/step\n",
            "Epoch 25/100\n",
            "40/40 - 29s - loss: 0.4634 - accuracy: 0.7547 - val_loss: 0.4539 - val_accuracy: 0.7437 - lr: 1.5625e-05 - 29s/epoch - 737ms/step\n",
            "Epoch 26/100\n",
            "40/40 - 29s - loss: 0.4628 - accuracy: 0.7547 - val_loss: 0.4530 - val_accuracy: 0.7437 - lr: 1.5625e-05 - 29s/epoch - 713ms/step\n",
            "Epoch 27/100\n",
            "\n",
            "Epoch 27: ReduceLROnPlateau reducing learning rate to 1e-05.\n",
            "40/40 - 29s - loss: 0.4626 - accuracy: 0.7547 - val_loss: 0.4528 - val_accuracy: 0.7437 - lr: 1.5625e-05 - 29s/epoch - 721ms/step\n",
            "Epoch 28/100\n",
            "40/40 - 29s - loss: 0.4619 - accuracy: 0.7547 - val_loss: 0.4532 - val_accuracy: 0.7437 - lr: 1.0000e-05 - 29s/epoch - 714ms/step\n",
            "Epoch 29/100\n",
            "40/40 - 29s - loss: 0.4612 - accuracy: 0.7547 - val_loss: 0.4528 - val_accuracy: 0.7437 - lr: 1.0000e-05 - 29s/epoch - 730ms/step\n",
            "Epoch 30/100\n",
            "40/40 - 29s - loss: 0.4607 - accuracy: 0.7547 - val_loss: 0.4520 - val_accuracy: 0.7437 - lr: 1.0000e-05 - 29s/epoch - 725ms/step\n",
            "Epoch 31/100\n",
            "40/40 - 29s - loss: 0.4603 - accuracy: 0.7547 - val_loss: 0.4511 - val_accuracy: 0.7437 - lr: 1.0000e-05 - 29s/epoch - 724ms/step\n",
            "Epoch 32/100\n",
            "40/40 - 28s - loss: 0.4601 - accuracy: 0.7547 - val_loss: 0.4510 - val_accuracy: 0.7437 - lr: 1.0000e-05 - 28s/epoch - 690ms/step\n",
            "Epoch 33/100\n",
            "40/40 - 28s - loss: 0.4601 - accuracy: 0.7547 - val_loss: 0.4506 - val_accuracy: 0.7437 - lr: 1.0000e-05 - 28s/epoch - 702ms/step\n",
            "Epoch 34/100\n",
            "40/40 - 29s - loss: 0.4592 - accuracy: 0.7547 - val_loss: 0.4501 - val_accuracy: 0.7437 - lr: 1.0000e-05 - 29s/epoch - 723ms/step\n",
            "Epoch 35/100\n",
            "40/40 - 28s - loss: 0.4590 - accuracy: 0.7547 - val_loss: 0.4498 - val_accuracy: 0.7437 - lr: 1.0000e-05 - 28s/epoch - 707ms/step\n",
            "Epoch 36/100\n",
            "40/40 - 27s - loss: 0.4586 - accuracy: 0.7547 - val_loss: 0.4494 - val_accuracy: 0.7437 - lr: 1.0000e-05 - 27s/epoch - 684ms/step\n",
            "Epoch 37/100\n",
            "40/40 - 27s - loss: 0.4583 - accuracy: 0.7547 - val_loss: 0.4491 - val_accuracy: 0.7437 - lr: 1.0000e-05 - 27s/epoch - 678ms/step\n",
            "Epoch 38/100\n",
            "40/40 - 26s - loss: 0.4579 - accuracy: 0.7547 - val_loss: 0.4487 - val_accuracy: 0.7437 - lr: 1.0000e-05 - 26s/epoch - 656ms/step\n",
            "Epoch 39/100\n",
            "40/40 - 27s - loss: 0.4576 - accuracy: 0.7547 - val_loss: 0.4492 - val_accuracy: 0.7437 - lr: 1.0000e-05 - 27s/epoch - 670ms/step\n",
            "Epoch 40/100\n",
            "40/40 - 28s - loss: 0.4575 - accuracy: 0.7547 - val_loss: 0.4481 - val_accuracy: 0.7437 - lr: 1.0000e-05 - 28s/epoch - 702ms/step\n",
            "Epoch 41/100\n",
            "40/40 - 28s - loss: 0.4571 - accuracy: 0.7547 - val_loss: 0.4481 - val_accuracy: 0.7437 - lr: 1.0000e-05 - 28s/epoch - 708ms/step\n",
            "Epoch 42/100\n",
            "40/40 - 27s - loss: 0.4571 - accuracy: 0.7547 - val_loss: 0.4476 - val_accuracy: 0.7437 - lr: 1.0000e-05 - 27s/epoch - 674ms/step\n",
            "Epoch 43/100\n",
            "40/40 - 28s - loss: 0.4567 - accuracy: 0.7547 - val_loss: 0.4474 - val_accuracy: 0.7437 - lr: 1.0000e-05 - 28s/epoch - 698ms/step\n",
            "Epoch 44/100\n",
            "40/40 - 27s - loss: 0.4565 - accuracy: 0.7547 - val_loss: 0.4477 - val_accuracy: 0.7437 - lr: 1.0000e-05 - 27s/epoch - 672ms/step\n",
            "Epoch 45/100\n",
            "40/40 - 29s - loss: 0.4562 - accuracy: 0.7547 - val_loss: 0.4469 - val_accuracy: 0.7437 - lr: 1.0000e-05 - 29s/epoch - 717ms/step\n",
            "Epoch 46/100\n",
            "40/40 - 28s - loss: 0.4559 - accuracy: 0.7547 - val_loss: 0.4465 - val_accuracy: 0.7437 - lr: 1.0000e-05 - 28s/epoch - 694ms/step\n",
            "Epoch 47/100\n",
            "40/40 - 28s - loss: 0.4555 - accuracy: 0.7547 - val_loss: 0.4468 - val_accuracy: 0.7437 - lr: 1.0000e-05 - 28s/epoch - 696ms/step\n",
            "Epoch 48/100\n",
            "40/40 - 26s - loss: 0.4555 - accuracy: 0.7547 - val_loss: 0.4459 - val_accuracy: 0.7437 - lr: 1.0000e-05 - 26s/epoch - 655ms/step\n",
            "Epoch 49/100\n",
            "40/40 - 28s - loss: 0.4549 - accuracy: 0.7547 - val_loss: 0.4463 - val_accuracy: 0.7437 - lr: 1.0000e-05 - 28s/epoch - 691ms/step\n",
            "Epoch 50/100\n",
            "40/40 - 28s - loss: 0.4548 - accuracy: 0.7547 - val_loss: 0.4451 - val_accuracy: 0.7437 - lr: 1.0000e-05 - 28s/epoch - 690ms/step\n",
            "Epoch 51/100\n",
            "40/40 - 28s - loss: 0.4544 - accuracy: 0.7547 - val_loss: 0.4448 - val_accuracy: 0.7437 - lr: 1.0000e-05 - 28s/epoch - 708ms/step\n",
            "Epoch 52/100\n",
            "40/40 - 28s - loss: 0.4540 - accuracy: 0.7547 - val_loss: 0.4453 - val_accuracy: 0.7437 - lr: 1.0000e-05 - 28s/epoch - 697ms/step\n",
            "Epoch 53/100\n",
            "40/40 - 27s - loss: 0.4534 - accuracy: 0.7547 - val_loss: 0.4437 - val_accuracy: 0.7437 - lr: 1.0000e-05 - 27s/epoch - 678ms/step\n",
            "Epoch 54/100\n",
            "40/40 - 29s - loss: 0.4527 - accuracy: 0.7547 - val_loss: 0.4439 - val_accuracy: 0.7437 - lr: 1.0000e-05 - 29s/epoch - 717ms/step\n",
            "Epoch 55/100\n",
            "40/40 - 28s - loss: 0.4527 - accuracy: 0.7547 - val_loss: 0.4450 - val_accuracy: 0.7437 - lr: 1.0000e-05 - 28s/epoch - 711ms/step\n",
            "Epoch 56/100\n",
            "40/40 - 28s - loss: 0.4522 - accuracy: 0.7547 - val_loss: 0.4439 - val_accuracy: 0.7437 - lr: 1.0000e-05 - 28s/epoch - 701ms/step\n",
            "Epoch 57/100\n",
            "40/40 - 28s - loss: 0.4514 - accuracy: 0.7547 - val_loss: 0.4436 - val_accuracy: 0.7437 - lr: 1.0000e-05 - 28s/epoch - 688ms/step\n",
            "Epoch 58/100\n",
            "40/40 - 28s - loss: 0.4513 - accuracy: 0.7547 - val_loss: 0.4428 - val_accuracy: 0.7437 - lr: 1.0000e-05 - 28s/epoch - 700ms/step\n",
            "Epoch 59/100\n",
            "40/40 - 28s - loss: 0.4495 - accuracy: 0.7547 - val_loss: 0.4401 - val_accuracy: 0.7437 - lr: 1.0000e-05 - 28s/epoch - 701ms/step\n",
            "Epoch 60/100\n",
            "40/40 - 28s - loss: 0.4486 - accuracy: 0.7547 - val_loss: 0.4378 - val_accuracy: 0.7437 - lr: 1.0000e-05 - 28s/epoch - 691ms/step\n",
            "Epoch 61/100\n",
            "40/40 - 29s - loss: 0.4470 - accuracy: 0.7547 - val_loss: 0.4368 - val_accuracy: 0.7437 - lr: 1.0000e-05 - 29s/epoch - 714ms/step\n",
            "Epoch 62/100\n",
            "40/40 - 29s - loss: 0.4466 - accuracy: 0.7547 - val_loss: 0.4364 - val_accuracy: 0.7437 - lr: 1.0000e-05 - 29s/epoch - 716ms/step\n",
            "Epoch 63/100\n",
            "40/40 - 28s - loss: 0.4451 - accuracy: 0.7547 - val_loss: 0.4368 - val_accuracy: 0.7437 - lr: 1.0000e-05 - 28s/epoch - 693ms/step\n",
            "Epoch 64/100\n",
            "40/40 - 28s - loss: 0.4443 - accuracy: 0.7547 - val_loss: 0.4346 - val_accuracy: 0.7437 - lr: 1.0000e-05 - 28s/epoch - 693ms/step\n",
            "Epoch 65/100\n",
            "40/40 - 28s - loss: 0.4439 - accuracy: 0.7547 - val_loss: 0.4341 - val_accuracy: 0.7437 - lr: 1.0000e-05 - 28s/epoch - 701ms/step\n",
            "Epoch 66/100\n",
            "40/40 - 28s - loss: 0.4428 - accuracy: 0.7547 - val_loss: 0.4332 - val_accuracy: 0.7437 - lr: 1.0000e-05 - 28s/epoch - 689ms/step\n",
            "Epoch 67/100\n",
            "40/40 - 23s - loss: 0.4434 - accuracy: 0.7547 - val_loss: 0.4344 - val_accuracy: 0.7437 - lr: 1.0000e-05 - 23s/epoch - 584ms/step\n",
            "Epoch 68/100\n",
            "40/40 - 26s - loss: 0.4416 - accuracy: 0.7547 - val_loss: 0.4315 - val_accuracy: 0.7437 - lr: 1.0000e-05 - 26s/epoch - 662ms/step\n",
            "Epoch 69/100\n",
            "40/40 - 28s - loss: 0.4398 - accuracy: 0.7547 - val_loss: 0.4302 - val_accuracy: 0.7437 - lr: 1.0000e-05 - 28s/epoch - 706ms/step\n",
            "Epoch 70/100\n",
            "40/40 - 41s - loss: 0.4383 - accuracy: 0.7547 - val_loss: 0.4288 - val_accuracy: 0.7437 - lr: 1.0000e-05 - 41s/epoch - 1s/step\n",
            "Epoch 71/100\n",
            "40/40 - 29s - loss: 0.4373 - accuracy: 0.7547 - val_loss: 0.4289 - val_accuracy: 0.7437 - lr: 1.0000e-05 - 29s/epoch - 719ms/step\n",
            "Epoch 72/100\n",
            "40/40 - 27s - loss: 0.4370 - accuracy: 0.7547 - val_loss: 0.4272 - val_accuracy: 0.7437 - lr: 1.0000e-05 - 27s/epoch - 687ms/step\n",
            "Epoch 73/100\n",
            "40/40 - 28s - loss: 0.4348 - accuracy: 0.7547 - val_loss: 0.4256 - val_accuracy: 0.7437 - lr: 1.0000e-05 - 28s/epoch - 703ms/step\n",
            "Epoch 74/100\n",
            "40/40 - 28s - loss: 0.4337 - accuracy: 0.7547 - val_loss: 0.4255 - val_accuracy: 0.7437 - lr: 1.0000e-05 - 28s/epoch - 689ms/step\n",
            "Epoch 75/100\n",
            "40/40 - 24s - loss: 0.4343 - accuracy: 0.7547 - val_loss: 0.4250 - val_accuracy: 0.7437 - lr: 1.0000e-05 - 24s/epoch - 589ms/step\n",
            "Epoch 76/100\n",
            "40/40 - 27s - loss: 0.4324 - accuracy: 0.7547 - val_loss: 0.4244 - val_accuracy: 0.7437 - lr: 1.0000e-05 - 27s/epoch - 670ms/step\n",
            "Epoch 77/100\n",
            "40/40 - 29s - loss: 0.4314 - accuracy: 0.7547 - val_loss: 0.4238 - val_accuracy: 0.7437 - lr: 1.0000e-05 - 29s/epoch - 720ms/step\n",
            "Epoch 78/100\n",
            "40/40 - 28s - loss: 0.4309 - accuracy: 0.7547 - val_loss: 0.4221 - val_accuracy: 0.7437 - lr: 1.0000e-05 - 28s/epoch - 698ms/step\n",
            "Epoch 79/100\n",
            "40/40 - 28s - loss: 0.4291 - accuracy: 0.7547 - val_loss: 0.4202 - val_accuracy: 0.7437 - lr: 1.0000e-05 - 28s/epoch - 701ms/step\n",
            "Epoch 80/100\n",
            "40/40 - 23s - loss: 0.4302 - accuracy: 0.7547 - val_loss: 0.4197 - val_accuracy: 0.7437 - lr: 1.0000e-05 - 23s/epoch - 577ms/step\n",
            "Epoch 81/100\n",
            "40/40 - 27s - loss: 0.4272 - accuracy: 0.7547 - val_loss: 0.4166 - val_accuracy: 0.7437 - lr: 1.0000e-05 - 27s/epoch - 682ms/step\n",
            "Epoch 82/100\n",
            "40/40 - 26s - loss: 0.4243 - accuracy: 0.7547 - val_loss: 0.4179 - val_accuracy: 0.7437 - lr: 1.0000e-05 - 26s/epoch - 646ms/step\n",
            "Epoch 83/100\n",
            "40/40 - 27s - loss: 0.4235 - accuracy: 0.7547 - val_loss: 0.4118 - val_accuracy: 0.7437 - lr: 1.0000e-05 - 27s/epoch - 666ms/step\n",
            "Epoch 84/100\n",
            "40/40 - 27s - loss: 0.4225 - accuracy: 0.7547 - val_loss: 0.4121 - val_accuracy: 0.7437 - lr: 1.0000e-05 - 27s/epoch - 663ms/step\n",
            "Epoch 85/100\n",
            "40/40 - 27s - loss: 0.4218 - accuracy: 0.7547 - val_loss: 0.4124 - val_accuracy: 0.7437 - lr: 1.0000e-05 - 27s/epoch - 676ms/step\n",
            "Epoch 86/100\n",
            "40/40 - 27s - loss: 0.4192 - accuracy: 0.7547 - val_loss: 0.4091 - val_accuracy: 0.7437 - lr: 1.0000e-05 - 27s/epoch - 678ms/step\n",
            "Epoch 87/100\n",
            "40/40 - 21s - loss: 0.4216 - accuracy: 0.7547 - val_loss: 0.4087 - val_accuracy: 0.7437 - lr: 1.0000e-05 - 21s/epoch - 523ms/step\n",
            "Epoch 88/100\n",
            "40/40 - 22s - loss: 0.4200 - accuracy: 0.7547 - val_loss: 0.4136 - val_accuracy: 0.7437 - lr: 1.0000e-05 - 22s/epoch - 544ms/step\n",
            "Epoch 89/100\n",
            "40/40 - 26s - loss: 0.4169 - accuracy: 0.7547 - val_loss: 0.4067 - val_accuracy: 0.7437 - lr: 1.0000e-05 - 26s/epoch - 639ms/step\n",
            "Epoch 90/100\n",
            "40/40 - 22s - loss: 0.4173 - accuracy: 0.7547 - val_loss: 0.4093 - val_accuracy: 0.7437 - lr: 1.0000e-05 - 22s/epoch - 552ms/step\n",
            "Epoch 91/100\n",
            "40/40 - 27s - loss: 0.4157 - accuracy: 0.7547 - val_loss: 0.4054 - val_accuracy: 0.7437 - lr: 1.0000e-05 - 27s/epoch - 665ms/step\n",
            "Epoch 92/100\n",
            "40/40 - 27s - loss: 0.4140 - accuracy: 0.7547 - val_loss: 0.4068 - val_accuracy: 0.7437 - lr: 1.0000e-05 - 27s/epoch - 665ms/step\n",
            "Epoch 93/100\n",
            "40/40 - 28s - loss: 0.4122 - accuracy: 0.7547 - val_loss: 0.4045 - val_accuracy: 0.7437 - lr: 1.0000e-05 - 28s/epoch - 696ms/step\n",
            "Epoch 94/100\n",
            "40/40 - 27s - loss: 0.4121 - accuracy: 0.7547 - val_loss: 0.4014 - val_accuracy: 0.7437 - lr: 1.0000e-05 - 27s/epoch - 682ms/step\n",
            "Epoch 95/100\n",
            "40/40 - 23s - loss: 0.4122 - accuracy: 0.7547 - val_loss: 0.4156 - val_accuracy: 0.7437 - lr: 1.0000e-05 - 23s/epoch - 564ms/step\n",
            "Epoch 96/100\n",
            "40/40 - 21s - loss: 0.4130 - accuracy: 0.7547 - val_loss: 0.4012 - val_accuracy: 0.7437 - lr: 1.0000e-05 - 21s/epoch - 517ms/step\n",
            "Epoch 97/100\n",
            "40/40 - 27s - loss: 0.4117 - accuracy: 0.7547 - val_loss: 0.3989 - val_accuracy: 0.7437 - lr: 1.0000e-05 - 27s/epoch - 667ms/step\n",
            "Epoch 98/100\n",
            "40/40 - 27s - loss: 0.4095 - accuracy: 0.7547 - val_loss: 0.4006 - val_accuracy: 0.7437 - lr: 1.0000e-05 - 27s/epoch - 680ms/step\n",
            "Epoch 99/100\n",
            "40/40 - 27s - loss: 0.4090 - accuracy: 0.7547 - val_loss: 0.3979 - val_accuracy: 0.7437 - lr: 1.0000e-05 - 27s/epoch - 676ms/step\n",
            "Epoch 100/100\n",
            "40/40 - 27s - loss: 0.4068 - accuracy: 0.7547 - val_loss: 0.3963 - val_accuracy: 0.7437 - lr: 1.0000e-05 - 27s/epoch - 678ms/step\n"
          ]
        }
      ]
    },
    {
      "cell_type": "code",
      "source": [
        "# Plot the loss and accuracy curves for training and validation \n",
        "fig, ax = plt.subplots(2,1)\n",
        "fig.suptitle(\"Loss vs. Accuracy\")\n",
        "ax[0].plot(history.history['loss'], color='b', label=\"Training loss\")\n",
        "ax[0].plot(history.history['val_loss'], color='orange', label=\"validation loss\",axes =ax[0])\n",
        "legend = ax[0].legend(loc='best', shadow=True)\n",
        "\n",
        "ax[1].plot(history.history['accuracy'], color='b', label=\"Training accuracy\")\n",
        "ax[1].plot(history.history['val_accuracy'], color='orange',label=\"Validation accuracy\")\n",
        "legend = ax[1].legend(loc='best', shadow=True)"
      ],
      "metadata": {
        "id": "H0-7CN8IdrWw",
        "colab": {
          "base_uri": "https://localhost:8080/",
          "height": 482
        },
        "outputId": "fdaa24ac-8786-413a-d602-adce872deac4"
      },
      "execution_count": null,
      "outputs": [
        {
          "output_type": "display_data",
          "data": {
            "text/plain": [
              "<Figure size 640x480 with 2 Axes>"
            ],
            "image/png": "[encoded data removed]"
          },
          "metadata": {}
        }
      ]
    },
    {
      "cell_type": "code",
      "source": [],
      "metadata": {
        "id": "Y1S8COsddraF"
      },
      "execution_count": null,
      "outputs": []
    },
    {
      "cell_type": "markdown",
      "source": [
        "# Evaluate Model"
      ],
      "metadata": {
        "id": "HoT1BxOidrtB"
      }
    },
    {
      "cell_type": "code",
      "source": [
        "X_test"
      ],
      "metadata": {
        "id": "gXQqnyfF8gax"
      },
      "execution_count": null,
      "outputs": []
    },
    {
      "cell_type": "code",
      "source": [],
      "metadata": {
        "id": "A6I3owdt8iAi"
      },
      "execution_count": null,
      "outputs": []
    },
    {
      "cell_type": "code",
      "source": [
        "from keras.models import load_model\n",
        "from keras.losses import binary_crossentropy\n",
        "from keras.optimizers import Adam\n",
        "from keras.metrics import binary_accuracy\n",
        "import numpy as np\n",
        "\n",
        "# Load the saved model\n",
        "model = load_model('/content/drive/MyDrive/NTI/Automated Video Surveillance/face_verification/best.h5')\n",
        "\n",
        "# Load the test set data and labels\n",
        "x_test = np.load('path/to/x_test.npy')\n",
        "y_test = np.load('path/to/y_test.npy')\n",
        "\n",
        "# Evaluate the model on the test set\n",
        "loss, accuracy = model.evaluate(x_test, y_test, batch_size=32)\n",
        "\n",
        "# Make predictions on the test set\n",
        "y_pred = model.predict(x_test)\n",
        "\n",
        "# Compute performance metrics\n",
        "threshold = 0.5  # threshold for binary classification\n",
        "y_pred_classes = np.where(y_pred > threshold, 1, 0)  # convert probabilities to binary classes\n",
        "tp = np.sum(np.logical_and(y_pred_classes == 1, y_test == 1))\n",
        "tn = np.sum(np.logical_and(y_pred_classes == 0, y_test == 0))\n",
        "fp = np.sum(np.logical_and(y_pred_classes == 1, y_test == 0))\n",
        "fn = np.sum(np.logical_and(y_pred_classes == 0, y_test == 1))\n",
        "precision = tp / (tp + fp)\n",
        "recall = tp / (tp + fn)\n",
        "f1_score = 2 * precision * recall / (precision + recall)\n",
        "\n",
        "# Print the model's performance measures\n",
        "print('Test Loss:', loss)\n",
        "print('Test Accuracy:', accuracy)\n",
        "print('Precision:', precision)\n",
        "print('Recall:', recall)\n",
        "print('F1-score:', f1_score)"
      ],
      "metadata": {
        "id": "FwDN0fh9dx0p"
      },
      "execution_count": null,
      "outputs": []
    },
    {
      "cell_type": "code",
      "source": [],
      "metadata": {
        "id": "98HAyueTdx4Q"
      },
      "execution_count": null,
      "outputs": []
    }
  ]
}
