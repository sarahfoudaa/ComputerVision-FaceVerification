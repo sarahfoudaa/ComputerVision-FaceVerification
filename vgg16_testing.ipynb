{
  "nbformat": 4,
  "nbformat_minor": 0,
  "metadata": {
    "colab": {
      "provenance": []
    },
    "kernelspec": {
      "name": "python3",
      "display_name": "Python 3"
    },
    "language_info": {
      "name": "python"
    },
    "gpuClass": "standard"
  },
  "cells": [
    {
      "cell_type": "code",
      "execution_count": 1,
      "metadata": {
        "id": "yjKbcCTk-2Ob"
      },
      "outputs": [],
      "source": [
        "import pandas as pd\n",
        "import tensorflow as tf"
      ]
    },
    {
      "cell_type": "code",
      "source": [
        "from google.colab import drive\n",
        "\n",
        "drive.mount('/content/gdrive/', force_remount=True)"
      ],
      "metadata": {
        "colab": {
          "base_uri": "https://localhost:8080/"
        },
        "id": "RE-pq3CF_hbZ",
        "outputId": "f5d389fd-1dfb-46b2-92c7-cac52716d1fc"
      },
      "execution_count": 2,
      "outputs": [
        {
          "output_type": "stream",
          "name": "stdout",
          "text": [
            "Mounted at /content/gdrive/\n"
          ]
        }
      ]
    },
    {
      "cell_type": "code",
      "source": [
        "%cd gdrive/MyDrive"
      ],
      "metadata": {
        "colab": {
          "base_uri": "https://localhost:8080/"
        },
        "id": "809qSujy_hez",
        "outputId": "cb494dbb-cd13-42d0-9ecd-976c2c0ca71a"
      },
      "execution_count": 3,
      "outputs": [
        {
          "output_type": "stream",
          "name": "stdout",
          "text": [
            "/content/gdrive/MyDrive\n"
          ]
        }
      ]
    },
    {
      "cell_type": "code",
      "source": [
        "model_path= '/content/gdrive/MyDrive/NTI/Automated Video Surveillance/face_verification/datasetV2/best_vgg_data_new_correct.h5'\n",
        "vggface_path = '/content/gdrive/MyDrive/NTI/Automated Video Surveillance/face_verification/vgg_face_weights.h5'"
      ],
      "metadata": {
        "id": "WMNTX7Oy_hgs"
      },
      "execution_count": 5,
      "outputs": []
    },
    {
      "cell_type": "code",
      "source": [
        "import pickle\n",
        "import numpy\n",
        "import tensorflow\n",
        "import tensorflow as tf\n",
        "import pandas as pd\n",
        "import numpy as np\n",
        "import matplotlib.pyplot as plt\n",
        "import matplotlib.image as mpimg\n",
        "import seaborn as sns\n",
        "from tensorflow.keras.models import Model\n",
        "from tensorflow.keras.layers import Layer, Conv2D, Dense, MaxPooling2D, Input, Flatten\n",
        "import tensorflow as tf\n",
        "from keras.callbacks import ModelCheckpoint, ReduceLROnPlateau , EarlyStopping\n",
        "%matplotlib inline\n",
        "import warnings\n",
        "warnings.filterwarnings('ignore')\n",
        "\n",
        "sns.set(style='white', context='notebook', palette='deep')"
      ],
      "metadata": {
        "id": "a4dVC-kO_hk4"
      },
      "execution_count": 6,
      "outputs": []
    },
    {
      "cell_type": "code",
      "source": [
        "import tensorflow as tf\n",
        "\n",
        "def my_activation(x):\n",
        "    return tf.keras.activations.tanh(x)"
      ],
      "metadata": {
        "id": "Qkn_gxcWgqBU"
      },
      "execution_count": 7,
      "outputs": []
    },
    {
      "cell_type": "code",
      "source": [
        "!pip install deepface"
      ],
      "metadata": {
        "id": "rJZc9z4-hXag",
        "colab": {
          "base_uri": "https://localhost:8080/"
        },
        "outputId": "ed27f5b4-3988-4ab4-d61e-ea3507171b38"
      },
      "execution_count": 8,
      "outputs": [
        {
          "output_type": "stream",
          "name": "stdout",
          "text": [
            "Looking in indexes: https://pypi.org/simple, https://us-python.pkg.dev/colab-wheels/public/simple/\n",
            "Collecting deepface\n",
            "  Downloading deepface-0.0.79-py3-none-any.whl (49 kB)\n",
            "\u001b[2K     \u001b[90m━━━━━━━━━━━━━━━━━━━━━━━━━━━━━━━━━━━━━━━━\u001b[0m \u001b[32m49.6/49.6 kB\u001b[0m \u001b[31m2.6 MB/s\u001b[0m eta \u001b[36m0:00:00\u001b[0m\n",
            "\u001b[?25hRequirement already satisfied: numpy>=1.14.0 in /usr/local/lib/python3.10/dist-packages (from deepface) (1.22.4)\n",
            "Requirement already satisfied: pandas>=0.23.4 in /usr/local/lib/python3.10/dist-packages (from deepface) (1.5.3)\n",
            "Requirement already satisfied: tqdm>=4.30.0 in /usr/local/lib/python3.10/dist-packages (from deepface) (4.65.0)\n",
            "Requirement already satisfied: gdown>=3.10.1 in /usr/local/lib/python3.10/dist-packages (from deepface) (4.6.6)\n",
            "Requirement already satisfied: Pillow>=5.2.0 in /usr/local/lib/python3.10/dist-packages (from deepface) (8.4.0)\n",
            "Requirement already satisfied: opencv-python>=4.5.5.64 in /usr/local/lib/python3.10/dist-packages (from deepface) (4.7.0.72)\n",
            "Requirement already satisfied: tensorflow>=1.9.0 in /usr/local/lib/python3.10/dist-packages (from deepface) (2.12.0)\n",
            "Requirement already satisfied: keras>=2.2.0 in /usr/local/lib/python3.10/dist-packages (from deepface) (2.12.0)\n",
            "Requirement already satisfied: Flask>=1.1.2 in /usr/local/lib/python3.10/dist-packages (from deepface) (2.2.4)\n",
            "Collecting mtcnn>=0.1.0 (from deepface)\n",
            "  Downloading mtcnn-0.1.1-py3-none-any.whl (2.3 MB)\n",
            "\u001b[2K     \u001b[90m━━━━━━━━━━━━━━━━━━━━━━━━━━━━━━━━━━━━━━━━\u001b[0m \u001b[32m2.3/2.3 MB\u001b[0m \u001b[31m30.6 MB/s\u001b[0m eta \u001b[36m0:00:00\u001b[0m\n",
            "\u001b[?25hCollecting retina-face>=0.0.1 (from deepface)\n",
            "  Downloading retina_face-0.0.13-py3-none-any.whl (16 kB)\n",
            "Collecting fire>=0.4.0 (from deepface)\n",
            "  Downloading fire-0.5.0.tar.gz (88 kB)\n",
            "\u001b[2K     \u001b[90m━━━━━━━━━━━━━━━━━━━━━━━━━━━━━━━━━━━━━━━━\u001b[0m \u001b[32m88.3/88.3 kB\u001b[0m \u001b[31m10.1 MB/s\u001b[0m eta \u001b[36m0:00:00\u001b[0m\n",
            "\u001b[?25h  Preparing metadata (setup.py) ... \u001b[?25l\u001b[?25hdone\n",
            "Collecting gunicorn>=20.1.0 (from deepface)\n",
            "  Downloading gunicorn-20.1.0-py3-none-any.whl (79 kB)\n",
            "\u001b[2K     \u001b[90m━━━━━━━━━━━━━━━━━━━━━━━━━━━━━━━━━━━━━━━━\u001b[0m \u001b[32m79.5/79.5 kB\u001b[0m \u001b[31m9.4 MB/s\u001b[0m eta \u001b[36m0:00:00\u001b[0m\n",
            "\u001b[?25hRequirement already satisfied: six in /usr/local/lib/python3.10/dist-packages (from fire>=0.4.0->deepface) (1.16.0)\n",
            "Requirement already satisfied: termcolor in /usr/local/lib/python3.10/dist-packages (from fire>=0.4.0->deepface) (2.3.0)\n",
            "Requirement already satisfied: Werkzeug>=2.2.2 in /usr/local/lib/python3.10/dist-packages (from Flask>=1.1.2->deepface) (2.3.0)\n",
            "Requirement already satisfied: Jinja2>=3.0 in /usr/local/lib/python3.10/dist-packages (from Flask>=1.1.2->deepface) (3.1.2)\n",
            "Requirement already satisfied: itsdangerous>=2.0 in /usr/local/lib/python3.10/dist-packages (from Flask>=1.1.2->deepface) (2.1.2)\n",
            "Requirement already satisfied: click>=8.0 in /usr/local/lib/python3.10/dist-packages (from Flask>=1.1.2->deepface) (8.1.3)\n",
            "Requirement already satisfied: filelock in /usr/local/lib/python3.10/dist-packages (from gdown>=3.10.1->deepface) (3.12.0)\n",
            "Requirement already satisfied: requests[socks] in /usr/local/lib/python3.10/dist-packages (from gdown>=3.10.1->deepface) (2.27.1)\n",
            "Requirement already satisfied: beautifulsoup4 in /usr/local/lib/python3.10/dist-packages (from gdown>=3.10.1->deepface) (4.11.2)\n",
            "Requirement already satisfied: setuptools>=3.0 in /usr/local/lib/python3.10/dist-packages (from gunicorn>=20.1.0->deepface) (67.7.2)\n",
            "Requirement already satisfied: python-dateutil>=2.8.1 in /usr/local/lib/python3.10/dist-packages (from pandas>=0.23.4->deepface) (2.8.2)\n",
            "Requirement already satisfied: pytz>=2020.1 in /usr/local/lib/python3.10/dist-packages (from pandas>=0.23.4->deepface) (2022.7.1)\n",
            "Requirement already satisfied: absl-py>=1.0.0 in /usr/local/lib/python3.10/dist-packages (from tensorflow>=1.9.0->deepface) (1.4.0)\n",
            "Requirement already satisfied: astunparse>=1.6.0 in /usr/local/lib/python3.10/dist-packages (from tensorflow>=1.9.0->deepface) (1.6.3)\n",
            "Requirement already satisfied: flatbuffers>=2.0 in /usr/local/lib/python3.10/dist-packages (from tensorflow>=1.9.0->deepface) (23.3.3)\n",
            "Requirement already satisfied: gast<=0.4.0,>=0.2.1 in /usr/local/lib/python3.10/dist-packages (from tensorflow>=1.9.0->deepface) (0.4.0)\n",
            "Requirement already satisfied: google-pasta>=0.1.1 in /usr/local/lib/python3.10/dist-packages (from tensorflow>=1.9.0->deepface) (0.2.0)\n",
            "Requirement already satisfied: grpcio<2.0,>=1.24.3 in /usr/local/lib/python3.10/dist-packages (from tensorflow>=1.9.0->deepface) (1.54.0)\n",
            "Requirement already satisfied: h5py>=2.9.0 in /usr/local/lib/python3.10/dist-packages (from tensorflow>=1.9.0->deepface) (3.8.0)\n",
            "Requirement already satisfied: jax>=0.3.15 in /usr/local/lib/python3.10/dist-packages (from tensorflow>=1.9.0->deepface) (0.4.8)\n",
            "Requirement already satisfied: libclang>=13.0.0 in /usr/local/lib/python3.10/dist-packages (from tensorflow>=1.9.0->deepface) (16.0.0)\n",
            "Requirement already satisfied: opt-einsum>=2.3.2 in /usr/local/lib/python3.10/dist-packages (from tensorflow>=1.9.0->deepface) (3.3.0)\n",
            "Requirement already satisfied: packaging in /usr/local/lib/python3.10/dist-packages (from tensorflow>=1.9.0->deepface) (23.1)\n",
            "Requirement already satisfied: protobuf!=4.21.0,!=4.21.1,!=4.21.2,!=4.21.3,!=4.21.4,!=4.21.5,<5.0.0dev,>=3.20.3 in /usr/local/lib/python3.10/dist-packages (from tensorflow>=1.9.0->deepface) (3.20.3)\n",
            "Requirement already satisfied: tensorboard<2.13,>=2.12 in /usr/local/lib/python3.10/dist-packages (from tensorflow>=1.9.0->deepface) (2.12.2)\n",
            "Requirement already satisfied: tensorflow-estimator<2.13,>=2.12.0 in /usr/local/lib/python3.10/dist-packages (from tensorflow>=1.9.0->deepface) (2.12.0)\n",
            "Requirement already satisfied: typing-extensions>=3.6.6 in /usr/local/lib/python3.10/dist-packages (from tensorflow>=1.9.0->deepface) (4.5.0)\n",
            "Requirement already satisfied: wrapt<1.15,>=1.11.0 in /usr/local/lib/python3.10/dist-packages (from tensorflow>=1.9.0->deepface) (1.14.1)\n",
            "Requirement already satisfied: tensorflow-io-gcs-filesystem>=0.23.1 in /usr/local/lib/python3.10/dist-packages (from tensorflow>=1.9.0->deepface) (0.32.0)\n",
            "Requirement already satisfied: wheel<1.0,>=0.23.0 in /usr/local/lib/python3.10/dist-packages (from astunparse>=1.6.0->tensorflow>=1.9.0->deepface) (0.40.0)\n",
            "Requirement already satisfied: ml-dtypes>=0.0.3 in /usr/local/lib/python3.10/dist-packages (from jax>=0.3.15->tensorflow>=1.9.0->deepface) (0.1.0)\n",
            "Requirement already satisfied: scipy>=1.7 in /usr/local/lib/python3.10/dist-packages (from jax>=0.3.15->tensorflow>=1.9.0->deepface) (1.10.1)\n",
            "Requirement already satisfied: MarkupSafe>=2.0 in /usr/local/lib/python3.10/dist-packages (from Jinja2>=3.0->Flask>=1.1.2->deepface) (2.1.2)\n",
            "Requirement already satisfied: google-auth<3,>=1.6.3 in /usr/local/lib/python3.10/dist-packages (from tensorboard<2.13,>=2.12->tensorflow>=1.9.0->deepface) (2.17.3)\n",
            "Requirement already satisfied: google-auth-oauthlib<1.1,>=0.5 in /usr/local/lib/python3.10/dist-packages (from tensorboard<2.13,>=2.12->tensorflow>=1.9.0->deepface) (1.0.0)\n",
            "Requirement already satisfied: markdown>=2.6.8 in /usr/local/lib/python3.10/dist-packages (from tensorboard<2.13,>=2.12->tensorflow>=1.9.0->deepface) (3.4.3)\n",
            "Requirement already satisfied: tensorboard-data-server<0.8.0,>=0.7.0 in /usr/local/lib/python3.10/dist-packages (from tensorboard<2.13,>=2.12->tensorflow>=1.9.0->deepface) (0.7.0)\n",
            "Requirement already satisfied: tensorboard-plugin-wit>=1.6.0 in /usr/local/lib/python3.10/dist-packages (from tensorboard<2.13,>=2.12->tensorflow>=1.9.0->deepface) (1.8.1)\n",
            "Requirement already satisfied: soupsieve>1.2 in /usr/local/lib/python3.10/dist-packages (from beautifulsoup4->gdown>=3.10.1->deepface) (2.4.1)\n",
            "Requirement already satisfied: urllib3<1.27,>=1.21.1 in /usr/local/lib/python3.10/dist-packages (from requests[socks]->gdown>=3.10.1->deepface) (1.26.15)\n",
            "Requirement already satisfied: certifi>=2017.4.17 in /usr/local/lib/python3.10/dist-packages (from requests[socks]->gdown>=3.10.1->deepface) (2022.12.7)\n",
            "Requirement already satisfied: charset-normalizer~=2.0.0 in /usr/local/lib/python3.10/dist-packages (from requests[socks]->gdown>=3.10.1->deepface) (2.0.12)\n",
            "Requirement already satisfied: idna<4,>=2.5 in /usr/local/lib/python3.10/dist-packages (from requests[socks]->gdown>=3.10.1->deepface) (3.4)\n",
            "Requirement already satisfied: PySocks!=1.5.7,>=1.5.6 in /usr/local/lib/python3.10/dist-packages (from requests[socks]->gdown>=3.10.1->deepface) (1.7.1)\n",
            "Requirement already satisfied: cachetools<6.0,>=2.0.0 in /usr/local/lib/python3.10/dist-packages (from google-auth<3,>=1.6.3->tensorboard<2.13,>=2.12->tensorflow>=1.9.0->deepface) (5.3.0)\n",
            "Requirement already satisfied: pyasn1-modules>=0.2.1 in /usr/local/lib/python3.10/dist-packages (from google-auth<3,>=1.6.3->tensorboard<2.13,>=2.12->tensorflow>=1.9.0->deepface) (0.3.0)\n",
            "Requirement already satisfied: rsa<5,>=3.1.4 in /usr/local/lib/python3.10/dist-packages (from google-auth<3,>=1.6.3->tensorboard<2.13,>=2.12->tensorflow>=1.9.0->deepface) (4.9)\n",
            "Requirement already satisfied: requests-oauthlib>=0.7.0 in /usr/local/lib/python3.10/dist-packages (from google-auth-oauthlib<1.1,>=0.5->tensorboard<2.13,>=2.12->tensorflow>=1.9.0->deepface) (1.3.1)\n",
            "Requirement already satisfied: pyasn1<0.6.0,>=0.4.6 in /usr/local/lib/python3.10/dist-packages (from pyasn1-modules>=0.2.1->google-auth<3,>=1.6.3->tensorboard<2.13,>=2.12->tensorflow>=1.9.0->deepface) (0.5.0)\n",
            "Requirement already satisfied: oauthlib>=3.0.0 in /usr/local/lib/python3.10/dist-packages (from requests-oauthlib>=0.7.0->google-auth-oauthlib<1.1,>=0.5->tensorboard<2.13,>=2.12->tensorflow>=1.9.0->deepface) (3.2.2)\n",
            "Building wheels for collected packages: fire\n",
            "  Building wheel for fire (setup.py) ... \u001b[?25l\u001b[?25hdone\n",
            "  Created wheel for fire: filename=fire-0.5.0-py2.py3-none-any.whl size=116932 sha256=caf170470caf5698e722f534fd006dd722759218350b71d76f83c752d82b2df4\n",
            "  Stored in directory: /root/.cache/pip/wheels/90/d4/f7/9404e5db0116bd4d43e5666eaa3e70ab53723e1e3ea40c9a95\n",
            "Successfully built fire\n",
            "Installing collected packages: gunicorn, fire, mtcnn, retina-face, deepface\n",
            "Successfully installed deepface-0.0.79 fire-0.5.0 gunicorn-20.1.0 mtcnn-0.1.1 retina-face-0.0.13\n"
          ]
        }
      ]
    },
    {
      "cell_type": "code",
      "source": [
        "from tensorflow.keras.models import Model, load_model\n",
        "from keras.applications import VGG16\n",
        "from keras.layers import Lambda\n",
        "from deepface.basemodels import VGGFace\n",
        "import tensorflow as tf\n",
        "\n",
        "def make_siamese_model():\n",
        "    # Anchor image input in the network\n",
        "    input_image = Input(name='input_img', shape=(224,224,3))\n",
        "    \n",
        "    # Validation image in the network \n",
        "    validation_image = Input(name='validation_img', shape=(224,224,3))\n",
        "\n",
        "    vgg = VGGFace.baseModel()\n",
        "    vgg.load_weights(vggface_path)\n",
        "    cnt = 0\n",
        "    for lyer in vgg.layers:\n",
        "        if cnt > 34:\n",
        "            lyer.trainable = True\n",
        "            lyer.activation= tf.keras.layers.Activation('tanh')\n",
        "        else:\n",
        "            lyer.trainable = False\n",
        "        cnt += 1\n",
        "    vgg_face = Model(inputs=vgg.layers[0].input, outputs=vgg.layers[-2].output)\n",
        "\n",
        "    x1 = vgg_face(input_image)\n",
        "    x2 = vgg_face(validation_image)\n",
        "\n",
        "    x1 = Flatten()(x1)\n",
        "    x2 = Flatten()(x2)\n",
        "\n",
        "    distances = Lambda(lambda x: tf.math.abs(x[0] - x[1]), name='L1_distance')([x1, x2])\n",
        "    classifier = Dense(3, activation='softmax')(distances)\n",
        "    \n",
        "    siamese_model = Model(inputs=[input_image, validation_image], outputs=classifier)\n",
        "\n",
        "    # Load the saved model with custom object scope\n",
        "    with tf.keras.utils.custom_object_scope({'my_activation': my_activation}):\n",
        "        saved_model_path = model_path\n",
        "        loaded_model = tf.keras.models.load_model(saved_model_path)\n",
        "\n",
        "    return loaded_model"
      ],
      "metadata": {
        "id": "D4dHGbj5fQHG"
      },
      "execution_count": 9,
      "outputs": []
    },
    {
      "cell_type": "code",
      "source": [
        "import tensorflow as tf\n",
        "\n",
        "def my_activation(x):\n",
        "    return tf.keras.activations.tanh(x)\n",
        "\n",
        "# Register the custom activation function with Keras\n",
        "tf.keras.utils.get_custom_objects().update({'my_activation': my_activation})\n",
        "\n",
        "# Define the saved model path\n",
        "saved_model_path = model_path\n",
        "\n",
        "# Load the saved model with the custom activation function\n",
        "with tf.keras.utils.custom_object_scope({'Activation': tf.keras.layers.Activation,\n",
        "                                          'my_activation': my_activation}):\n",
        "    loaded_model = tf.keras.models.load_model(saved_model_path)"
      ],
      "metadata": {
        "id": "UxLAycOpk3sA"
      },
      "execution_count": 10,
      "outputs": []
    },
    {
      "cell_type": "code",
      "source": [
        "loaded_model"
      ],
      "metadata": {
        "colab": {
          "base_uri": "https://localhost:8080/"
        },
        "id": "1h6SJ0wHlGzp",
        "outputId": "20b0237f-803e-4fc1-99f0-0894b10934ab"
      },
      "execution_count": 11,
      "outputs": [
        {
          "output_type": "execute_result",
          "data": {
            "text/plain": [
              "<keras.engine.functional.Functional at 0x7f60311e5e40>"
            ]
          },
          "metadata": {},
          "execution_count": 11
        }
      ]
    },
    {
      "cell_type": "code",
      "source": [
        "df = pd.read_csv('/content/gdrive/MyDrive/NTI/Automated Video Surveillance/face_verification/datasetV2/datasetv2.csv')"
      ],
      "metadata": {
        "id": "mvMW6JKJl-GE"
      },
      "execution_count": 12,
      "outputs": []
    },
    {
      "cell_type": "code",
      "source": [
        "from sklearn.model_selection import train_test_split\n",
        "\n",
        "X_train, X_test = train_test_split(df, test_size = 0.3, random_state=42)"
      ],
      "metadata": {
        "id": "z7C4ixkulJmj"
      },
      "execution_count": 13,
      "outputs": []
    },
    {
      "cell_type": "code",
      "source": [
        "X_test"
      ],
      "metadata": {
        "colab": {
          "base_uri": "https://localhost:8080/",
          "height": 423
        },
        "id": "jjNdInMHOezc",
        "outputId": "cdcc122c-a652-4878-f3dd-902babadd9c6"
      },
      "execution_count": 14,
      "outputs": [
        {
          "output_type": "execute_result",
          "data": {
            "text/plain": [
              "                                                 anchor  \\\n",
              "992   /content/gdrive/MyDrive/NTI/Automated Video Su...   \n",
              "746   /content/gdrive/MyDrive/NTI/Automated Video Su...   \n",
              "1066  /content/gdrive/MyDrive/NTI/Automated Video Su...   \n",
              "425   /content/gdrive/MyDrive/NTI/Automated Video Su...   \n",
              "490   /content/gdrive/MyDrive/NTI/Automated Video Su...   \n",
              "...                                                 ...   \n",
              "259   /content/gdrive/MyDrive/NTI/Automated Video Su...   \n",
              "204   /content/gdrive/MyDrive/NTI/Automated Video Su...   \n",
              "547   /content/gdrive/MyDrive/NTI/Automated Video Su...   \n",
              "649   /content/gdrive/MyDrive/NTI/Automated Video Su...   \n",
              "655   /content/gdrive/MyDrive/NTI/Automated Video Su...   \n",
              "\n",
              "                                             validation  lable  \n",
              "992   /content/gdrive/MyDrive/NTI/Automated Video Su...      0  \n",
              "746   /content/gdrive/MyDrive/NTI/Automated Video Su...      0  \n",
              "1066  /content/gdrive/MyDrive/NTI/Automated Video Su...      0  \n",
              "425   /content/gdrive/MyDrive/NTI/Automated Video Su...      2  \n",
              "490   /content/gdrive/MyDrive/NTI/Automated Video Su...      2  \n",
              "...                                                 ...    ...  \n",
              "259   /content/gdrive/MyDrive/NTI/Automated Video Su...      2  \n",
              "204   /content/gdrive/MyDrive/NTI/Automated Video Su...      1  \n",
              "547   /content/gdrive/MyDrive/NTI/Automated Video Su...      0  \n",
              "649   /content/gdrive/MyDrive/NTI/Automated Video Su...      0  \n",
              "655   /content/gdrive/MyDrive/NTI/Automated Video Su...      0  \n",
              "\n",
              "[322 rows x 3 columns]"
            ],
            "text/html": [
              "\n",
              "  <div id=\"df-db04783d-5439-43be-aa47-5066f32961a4\">\n",
              "    <div class=\"colab-df-container\">\n",
              "      <div>\n",
              "<style scoped>\n",
              "    .dataframe tbody tr th:only-of-type {\n",
              "        vertical-align: middle;\n",
              "    }\n",
              "\n",
              "    .dataframe tbody tr th {\n",
              "        vertical-align: top;\n",
              "    }\n",
              "\n",
              "    .dataframe thead th {\n",
              "        text-align: right;\n",
              "    }\n",
              "</style>\n",
              "<table border=\"1\" class=\"dataframe\">\n",
              "  <thead>\n",
              "    <tr style=\"text-align: right;\">\n",
              "      <th></th>\n",
              "      <th>anchor</th>\n",
              "      <th>validation</th>\n",
              "      <th>lable</th>\n",
              "    </tr>\n",
              "  </thead>\n",
              "  <tbody>\n",
              "    <tr>\n",
              "      <th>992</th>\n",
              "      <td>/content/gdrive/MyDrive/NTI/Automated Video Su...</td>\n",
              "      <td>/content/gdrive/MyDrive/NTI/Automated Video Su...</td>\n",
              "      <td>0</td>\n",
              "    </tr>\n",
              "    <tr>\n",
              "      <th>746</th>\n",
              "      <td>/content/gdrive/MyDrive/NTI/Automated Video Su...</td>\n",
              "      <td>/content/gdrive/MyDrive/NTI/Automated Video Su...</td>\n",
              "      <td>0</td>\n",
              "    </tr>\n",
              "    <tr>\n",
              "      <th>1066</th>\n",
              "      <td>/content/gdrive/MyDrive/NTI/Automated Video Su...</td>\n",
              "      <td>/content/gdrive/MyDrive/NTI/Automated Video Su...</td>\n",
              "      <td>0</td>\n",
              "    </tr>\n",
              "    <tr>\n",
              "      <th>425</th>\n",
              "      <td>/content/gdrive/MyDrive/NTI/Automated Video Su...</td>\n",
              "      <td>/content/gdrive/MyDrive/NTI/Automated Video Su...</td>\n",
              "      <td>2</td>\n",
              "    </tr>\n",
              "    <tr>\n",
              "      <th>490</th>\n",
              "      <td>/content/gdrive/MyDrive/NTI/Automated Video Su...</td>\n",
              "      <td>/content/gdrive/MyDrive/NTI/Automated Video Su...</td>\n",
              "      <td>2</td>\n",
              "    </tr>\n",
              "    <tr>\n",
              "      <th>...</th>\n",
              "      <td>...</td>\n",
              "      <td>...</td>\n",
              "      <td>...</td>\n",
              "    </tr>\n",
              "    <tr>\n",
              "      <th>259</th>\n",
              "      <td>/content/gdrive/MyDrive/NTI/Automated Video Su...</td>\n",
              "      <td>/content/gdrive/MyDrive/NTI/Automated Video Su...</td>\n",
              "      <td>2</td>\n",
              "    </tr>\n",
              "    <tr>\n",
              "      <th>204</th>\n",
              "      <td>/content/gdrive/MyDrive/NTI/Automated Video Su...</td>\n",
              "      <td>/content/gdrive/MyDrive/NTI/Automated Video Su...</td>\n",
              "      <td>1</td>\n",
              "    </tr>\n",
              "    <tr>\n",
              "      <th>547</th>\n",
              "      <td>/content/gdrive/MyDrive/NTI/Automated Video Su...</td>\n",
              "      <td>/content/gdrive/MyDrive/NTI/Automated Video Su...</td>\n",
              "      <td>0</td>\n",
              "    </tr>\n",
              "    <tr>\n",
              "      <th>649</th>\n",
              "      <td>/content/gdrive/MyDrive/NTI/Automated Video Su...</td>\n",
              "      <td>/content/gdrive/MyDrive/NTI/Automated Video Su...</td>\n",
              "      <td>0</td>\n",
              "    </tr>\n",
              "    <tr>\n",
              "      <th>655</th>\n",
              "      <td>/content/gdrive/MyDrive/NTI/Automated Video Su...</td>\n",
              "      <td>/content/gdrive/MyDrive/NTI/Automated Video Su...</td>\n",
              "      <td>0</td>\n",
              "    </tr>\n",
              "  </tbody>\n",
              "</table>\n",
              "<p>322 rows × 3 columns</p>\n",
              "</div>\n",
              "      <button class=\"colab-df-convert\" onclick=\"convertToInteractive('df-db04783d-5439-43be-aa47-5066f32961a4')\"\n",
              "              title=\"Convert this dataframe to an interactive table.\"\n",
              "              style=\"display:none;\">\n",
              "        \n",
              "  <svg xmlns=\"http://www.w3.org/2000/svg\" height=\"24px\"viewBox=\"0 0 24 24\"\n",
              "       width=\"24px\">\n",
              "    <path d=\"M0 0h24v24H0V0z\" fill=\"none\"/>\n",
              "    <path d=\"M18.56 5.44l.94 2.06.94-2.06 2.06-.94-2.06-.94-.94-2.06-.94 2.06-2.06.94zm-11 1L8.5 8.5l.94-2.06 2.06-.94-2.06-.94L8.5 2.5l-.94 2.06-2.06.94zm10 10l.94 2.06.94-2.06 2.06-.94-2.06-.94-.94-2.06-.94 2.06-2.06.94z\"/><path d=\"M17.41 7.96l-1.37-1.37c-.4-.4-.92-.59-1.43-.59-.52 0-1.04.2-1.43.59L10.3 9.45l-7.72 7.72c-.78.78-.78 2.05 0 2.83L4 21.41c.39.39.9.59 1.41.59.51 0 1.02-.2 1.41-.59l7.78-7.78 2.81-2.81c.8-.78.8-2.07 0-2.86zM5.41 20L4 18.59l7.72-7.72 1.47 1.35L5.41 20z\"/>\n",
              "  </svg>\n",
              "      </button>\n",
              "      \n",
              "  <style>\n",
              "    .colab-df-container {\n",
              "      display:flex;\n",
              "      flex-wrap:wrap;\n",
              "      gap: 12px;\n",
              "    }\n",
              "\n",
              "    .colab-df-convert {\n",
              "      background-color: #E8F0FE;\n",
              "      border: none;\n",
              "      border-radius: 50%;\n",
              "      cursor: pointer;\n",
              "      display: none;\n",
              "      fill: #1967D2;\n",
              "      height: 32px;\n",
              "      padding: 0 0 0 0;\n",
              "      width: 32px;\n",
              "    }\n",
              "\n",
              "    .colab-df-convert:hover {\n",
              "      background-color: #E2EBFA;\n",
              "      box-shadow: 0px 1px 2px rgba(60, 64, 67, 0.3), 0px 1px 3px 1px rgba(60, 64, 67, 0.15);\n",
              "      fill: #174EA6;\n",
              "    }\n",
              "\n",
              "    [theme=dark] .colab-df-convert {\n",
              "      background-color: #3B4455;\n",
              "      fill: #D2E3FC;\n",
              "    }\n",
              "\n",
              "    [theme=dark] .colab-df-convert:hover {\n",
              "      background-color: #434B5C;\n",
              "      box-shadow: 0px 1px 3px 1px rgba(0, 0, 0, 0.15);\n",
              "      filter: drop-shadow(0px 1px 2px rgba(0, 0, 0, 0.3));\n",
              "      fill: #FFFFFF;\n",
              "    }\n",
              "  </style>\n",
              "\n",
              "      <script>\n",
              "        const buttonEl =\n",
              "          document.querySelector('#df-db04783d-5439-43be-aa47-5066f32961a4 button.colab-df-convert');\n",
              "        buttonEl.style.display =\n",
              "          google.colab.kernel.accessAllowed ? 'block' : 'none';\n",
              "\n",
              "        async function convertToInteractive(key) {\n",
              "          const element = document.querySelector('#df-db04783d-5439-43be-aa47-5066f32961a4');\n",
              "          const dataTable =\n",
              "            await google.colab.kernel.invokeFunction('convertToInteractive',\n",
              "                                                     [key], {});\n",
              "          if (!dataTable) return;\n",
              "\n",
              "          const docLinkHtml = 'Like what you see? Visit the ' +\n",
              "            '<a target=\"_blank\" href=https://colab.research.google.com/notebooks/data_table.ipynb>data table notebook</a>'\n",
              "            + ' to learn more about interactive tables.';\n",
              "          element.innerHTML = '';\n",
              "          dataTable['output_type'] = 'display_data';\n",
              "          await google.colab.output.renderOutput(dataTable, element);\n",
              "          const docLink = document.createElement('div');\n",
              "          docLink.innerHTML = docLinkHtml;\n",
              "          element.appendChild(docLink);\n",
              "        }\n",
              "      </script>\n",
              "    </div>\n",
              "  </div>\n",
              "  "
            ]
          },
          "metadata": {},
          "execution_count": 14
        }
      ]
    },
    {
      "cell_type": "code",
      "source": [
        "!pip install visualkeras"
      ],
      "metadata": {
        "colab": {
          "base_uri": "https://localhost:8080/"
        },
        "id": "-EWTUq6aRLLB",
        "outputId": "d2af4016-9ded-4bd5-f49a-146f7c93f256"
      },
      "execution_count": 17,
      "outputs": [
        {
          "output_type": "stream",
          "name": "stdout",
          "text": [
            "Looking in indexes: https://pypi.org/simple, https://us-python.pkg.dev/colab-wheels/public/simple/\n",
            "Requirement already satisfied: visualkeras in /usr/local/lib/python3.10/dist-packages (0.0.2)\n",
            "Requirement already satisfied: pillow>=6.2.0 in /usr/local/lib/python3.10/dist-packages (from visualkeras) (8.4.0)\n",
            "Requirement already satisfied: numpy>=1.18.1 in /usr/local/lib/python3.10/dist-packages (from visualkeras) (1.22.4)\n",
            "Requirement already satisfied: aggdraw>=1.3.11 in /usr/local/lib/python3.10/dist-packages (from visualkeras) (1.3.16)\n"
          ]
        }
      ]
    },
    {
      "cell_type": "code",
      "source": [
        "visualkeras.layered_view(loaded_model, legend=True, draw_volume=False) "
      ],
      "metadata": {
        "colab": {
          "base_uri": "https://localhost:8080/",
          "height": 171
        },
        "id": "IAz6g6d-RJ0E",
        "outputId": "8cf835f7-b7d4-441e-a104-ffcae4f72b2a"
      },
      "execution_count": 18,
      "outputs": [
        {
          "output_type": "error",
          "ename": "NameError",
          "evalue": "ignored",
          "traceback": [
            "\u001b[0;31m---------------------------------------------------------------------------\u001b[0m",
            "\u001b[0;31mNameError\u001b[0m                                 Traceback (most recent call last)",
            "\u001b[0;32m<ipython-input-18-4ee1bd2d079d>\u001b[0m in \u001b[0;36m<cell line: 1>\u001b[0;34m()\u001b[0m\n\u001b[0;32m----> 1\u001b[0;31m \u001b[0mvisualkeras\u001b[0m\u001b[0;34m.\u001b[0m\u001b[0mlayered_view\u001b[0m\u001b[0;34m(\u001b[0m\u001b[0mloaded_model\u001b[0m\u001b[0;34m,\u001b[0m \u001b[0mlegend\u001b[0m\u001b[0;34m=\u001b[0m\u001b[0;32mTrue\u001b[0m\u001b[0;34m,\u001b[0m \u001b[0mdraw_volume\u001b[0m\u001b[0;34m=\u001b[0m\u001b[0;32mFalse\u001b[0m\u001b[0;34m)\u001b[0m\u001b[0;34m\u001b[0m\u001b[0;34m\u001b[0m\u001b[0m\n\u001b[0m",
            "\u001b[0;31mNameError\u001b[0m: name 'visualkeras' is not defined"
          ]
        }
      ]
    },
    {
      "cell_type": "code",
      "source": [
        "reacall"
      ],
      "metadata": {
        "id": "wVm83zOFRZ36"
      },
      "execution_count": null,
      "outputs": []
    },
    {
      "cell_type": "code",
      "source": [
        "i=0\n",
        "for image in os.listdir('/content/gdrive/MyDrive/Automated Video Surveillance/face_verification/raw images/Dataset'):\n",
        "    validation_img = os.path.join('application_data', 'verification_images', image)\n",
        "    print(validation_img)\n",
        "    i = i+1\n",
        "    if i >= 30:\n",
        "      break"
      ],
      "metadata": {
        "id": "SPRCaFjxuXOZ"
      },
      "execution_count": null,
      "outputs": []
    },
    {
      "cell_type": "code",
      "source": [
        "ver_s_path = '/content/gdrive/MyDrive/NTI/Automated Video Surveillance/face_verification/raw images/verify sarah'\n",
        "ver_y_path = '/content/gdrive/MyDrive/NTI/Automated Video Surveillance/face_verification/raw images/verify yasmeen'\n",
        "imgn = '/content/gdrive/MyDrive/Automated Video Surveillance/face_verification/datasetV2/negative/Abdullah_0004.jpg'\n",
        "imgs = '/content/gdrive/MyDrive/NTI/Automated Video Surveillance/face_verification/raw images/Dataset/-5883973069897316348_121.jpg'\n",
        "imgy ='/content/gdrive/MyDrive/NTI/Automated Video Surveillance/face_verification/raw images/yasmeen mobil uploads/B612_20210704_191522_620.jpg'"
      ],
      "metadata": {
        "id": "VbCnI_rNHrNi"
      },
      "execution_count": 19,
      "outputs": []
    },
    {
      "cell_type": "code",
      "source": [
        "def verify(model, detection_threshold, verification_threshold, verify_path,img_path):\n",
        "    # Build results array\n",
        "    results = []\n",
        "    ver = verify_path\n",
        "    for image in os.listdir(ver):\n",
        "        input_img = preprocess(img_path)\n",
        "        validation_img = preprocess(os.path.join(ver, image))\n",
        "        \n",
        "        # Make Predictions \n",
        "        result = model.predict(list(np.expand_dims([input_img, validation_img], axis=1)))\n",
        "        results.append(result)\n",
        "  \n",
        "    \n",
        "    return results"
      ],
      "metadata": {
        "id": "WkTT192IG3PT"
      },
      "execution_count": 20,
      "outputs": []
    },
    {
      "cell_type": "code",
      "source": [
        "def preprocess(file_path):\n",
        "    \n",
        "    # Read in image from file path\n",
        "    byte_img = tf.io.read_file(file_path)\n",
        "    # Load in the image \n",
        "    img = tf.io.decode_jpeg(byte_img)\n",
        "    \n",
        "    # Preprocessing steps - resizing the image to be 100x100x3\n",
        "    img = tf.image.resize(img, (224,224))\n",
        "    # Scale image to be between 0 and 1 \n",
        "    img = img / 255.0\n",
        "\n",
        "    # Return image\n",
        "    return img"
      ],
      "metadata": {
        "id": "M1Ov1DW0zD1O"
      },
      "execution_count": 22,
      "outputs": []
    },
    {
      "cell_type": "code",
      "source": [
        "import os\n",
        "results = verify(loaded_model, 0.5, 0.5,ver_s_path, imgs)\n",
        "#print(results)"
      ],
      "metadata": {
        "id": "VRgb29ifIAn3",
        "colab": {
          "base_uri": "https://localhost:8080/"
        },
        "outputId": "4fb78354-ec57-4dfa-8454-12c8cd23859f"
      },
      "execution_count": 24,
      "outputs": [
        {
          "output_type": "stream",
          "name": "stdout",
          "text": [
            "1/1 [==============================] - 2s 2s/step\n",
            "1/1 [==============================] - 3s 3s/step\n",
            "1/1 [==============================] - 2s 2s/step\n",
            "1/1 [==============================] - 2s 2s/step\n",
            "1/1 [==============================] - 1s 1s/step\n",
            "1/1 [==============================] - 1s 1s/step\n",
            "1/1 [==============================] - 2s 2s/step\n",
            "1/1 [==============================] - 2s 2s/step\n",
            "1/1 [==============================] - 2s 2s/step\n",
            "1/1 [==============================] - 2s 2s/step\n",
            "1/1 [==============================] - 1s 1s/step\n",
            "1/1 [==============================] - 1s 1s/step\n",
            "1/1 [==============================] - 1s 1s/step\n",
            "1/1 [==============================] - 1s 1s/step\n",
            "1/1 [==============================] - 1s 1s/step\n"
          ]
        }
      ]
    },
    {
      "cell_type": "code",
      "source": [
        "resulty = verify(loaded_model, 0.5, 0.5,ver_y_path, imgy)"
      ],
      "metadata": {
        "colab": {
          "base_uri": "https://localhost:8080/"
        },
        "id": "9t0a-uv0o8DL",
        "outputId": "42ebf57c-44ca-4067-e177-4ced8a251583"
      },
      "execution_count": 25,
      "outputs": [
        {
          "output_type": "stream",
          "name": "stdout",
          "text": [
            "1/1 [==============================] - 1s 1s/step\n",
            "1/1 [==============================] - 2s 2s/step\n",
            "1/1 [==============================] - 2s 2s/step\n",
            "1/1 [==============================] - 1s 1s/step\n",
            "1/1 [==============================] - 1s 1s/step\n",
            "1/1 [==============================] - 1s 1s/step\n",
            "1/1 [==============================] - 1s 1s/step\n",
            "1/1 [==============================] - 1s 1s/step\n",
            "1/1 [==============================] - 1s 1s/step\n",
            "1/1 [==============================] - 2s 2s/step\n",
            "1/1 [==============================] - 2s 2s/step\n",
            "1/1 [==============================] - 1s 1s/step\n",
            "1/1 [==============================] - 1s 1s/step\n",
            "1/1 [==============================] - 1s 1s/step\n",
            "1/1 [==============================] - 1s 1s/step\n"
          ]
        }
      ]
    },
    {
      "cell_type": "code",
      "source": [],
      "metadata": {
        "id": "HVoG3WVao8ni"
      },
      "execution_count": null,
      "outputs": []
    },
    {
      "cell_type": "code",
      "source": [
        "for i in range(15):\n",
        "  highest_index = np.argmax(results[i], axis=1)\n",
        "  print(highest_index)"
      ],
      "metadata": {
        "colab": {
          "base_uri": "https://localhost:8080/"
        },
        "id": "BrtF-1IDBzaE",
        "outputId": "7361839e-6667-4223-8433-9f28812dfff8"
      },
      "execution_count": 26,
      "outputs": [
        {
          "output_type": "stream",
          "name": "stdout",
          "text": [
            "[1]\n",
            "[1]\n",
            "[1]\n",
            "[1]\n",
            "[1]\n",
            "[1]\n",
            "[1]\n",
            "[1]\n",
            "[1]\n",
            "[1]\n",
            "[1]\n",
            "[1]\n",
            "[1]\n",
            "[1]\n",
            "[1]\n"
          ]
        }
      ]
    },
    {
      "cell_type": "code",
      "source": [
        "for i in range(15):\n",
        "  highest_index = np.argmax(resulty[i], axis=1)\n",
        "  print(highest_index)"
      ],
      "metadata": {
        "id": "q80_N692CG3u",
        "colab": {
          "base_uri": "https://localhost:8080/"
        },
        "outputId": "d1bebd09-1013-479a-d4f3-12ec6ad2027f"
      },
      "execution_count": 27,
      "outputs": [
        {
          "output_type": "stream",
          "name": "stdout",
          "text": [
            "[2]\n",
            "[2]\n",
            "[2]\n",
            "[2]\n",
            "[2]\n",
            "[2]\n",
            "[2]\n",
            "[2]\n",
            "[2]\n",
            "[2]\n",
            "[2]\n",
            "[2]\n",
            "[2]\n",
            "[2]\n",
            "[2]\n"
          ]
        }
      ]
    },
    {
      "cell_type": "code",
      "source": [
        "import os\n",
        "results = verify(loaded_model, 0.5, 0.5)\n",
        "print(results)"
      ],
      "metadata": {
        "colab": {
          "base_uri": "https://localhost:8080/"
        },
        "id": "zBIlwLdnSgwr",
        "outputId": "cb560a8c-8ee5-4546-b3fa-01e930af3c48"
      },
      "execution_count": null,
      "outputs": [
        {
          "output_type": "stream",
          "name": "stdout",
          "text": [
            "1/1 [==============================] - 2s 2s/step\n",
            "1/1 [==============================] - 2s 2s/step\n",
            "1/1 [==============================] - 2s 2s/step\n",
            "1/1 [==============================] - 1s 1s/step\n",
            "1/1 [==============================] - 1s 1s/step\n",
            "1/1 [==============================] - 2s 2s/step\n",
            "1/1 [==============================] - 1s 1s/step\n",
            "1/1 [==============================] - 1s 1s/step\n",
            "1/1 [==============================] - 1s 1s/step\n",
            "1/1 [==============================] - 1s 1s/step\n",
            "1/1 [==============================] - 1s 1s/step\n",
            "1/1 [==============================] - 1s 1s/step\n",
            "1/1 [==============================] - 1s 1s/step\n",
            "1/1 [==============================] - 2s 2s/step\n",
            "1/1 [==============================] - 2s 2s/step\n",
            "1/1 [==============================] - 1s 1s/step\n",
            "1/1 [==============================] - 1s 1s/step\n",
            "1/1 [==============================] - 1s 1s/step\n",
            "1/1 [==============================] - 1s 1s/step\n",
            "1/1 [==============================] - 1s 1s/step\n",
            "1/1 [==============================] - 1s 1s/step\n",
            "1/1 [==============================] - 2s 2s/step\n",
            "1/1 [==============================] - 2s 2s/step\n",
            "1/1 [==============================] - 2s 2s/step\n",
            "1/1 [==============================] - 1s 1s/step\n",
            "1/1 [==============================] - 1s 1s/step\n",
            "1/1 [==============================] - 1s 1s/step\n",
            "1/1 [==============================] - 1s 1s/step\n",
            "1/1 [==============================] - 1s 1s/step\n",
            "1/1 [==============================] - 1s 1s/step\n",
            "1/1 [==============================] - 1s 1s/step\n",
            "1/1 [==============================] - 2s 2s/step\n",
            "1/1 [==============================] - 2s 2s/step\n",
            "1/1 [==============================] - 1s 1s/step\n",
            "1/1 [==============================] - 1s 1s/step\n",
            "1/1 [==============================] - 1s 1s/step\n",
            "1/1 [==============================] - 1s 1s/step\n",
            "1/1 [==============================] - 1s 1s/step\n",
            "1/1 [==============================] - 1s 1s/step\n",
            "1/1 [==============================] - 2s 2s/step\n",
            "1/1 [==============================] - 2s 2s/step\n",
            "1/1 [==============================] - 2s 2s/step\n",
            "1/1 [==============================] - 1s 1s/step\n",
            "1/1 [==============================] - 1s 1s/step\n",
            "1/1 [==============================] - 1s 1s/step\n",
            "1/1 [==============================] - 1s 1s/step\n",
            "1/1 [==============================] - 1s 1s/step\n",
            "1/1 [==============================] - 1s 1s/step\n",
            "1/1 [==============================] - 2s 2s/step\n",
            "1/1 [==============================] - 2s 2s/step\n",
            "1/1 [==============================] - 1s 1s/step\n",
            "1/1 [==============================] - 1s 1s/step\n",
            "1/1 [==============================] - 1s 1s/step\n",
            "1/1 [==============================] - 1s 1s/step\n",
            "1/1 [==============================] - 1s 1s/step\n",
            "1/1 [==============================] - 1s 1s/step\n",
            "1/1 [==============================] - 1s 1s/step\n",
            "1/1 [==============================] - 2s 2s/step\n",
            "1/1 [==============================] - 2s 2s/step\n",
            "1/1 [==============================] - 1s 1s/step\n",
            "1/1 [==============================] - 1s 1s/step\n",
            "1/1 [==============================] - 1s 1s/step\n",
            "1/1 [==============================] - 1s 1s/step\n",
            "1/1 [==============================] - 1s 1s/step\n",
            "1/1 [==============================] - 1s 1s/step\n",
            "1/1 [==============================] - 1s 1s/step\n",
            "1/1 [==============================] - 2s 2s/step\n",
            "1/1 [==============================] - 2s 2s/step\n",
            "1/1 [==============================] - 1s 1s/step\n",
            "1/1 [==============================] - 1s 1s/step\n",
            "1/1 [==============================] - 1s 1s/step\n",
            "1/1 [==============================] - 1s 1s/step\n",
            "[array([[0.03752322, 0.24093848, 0.7215383 ]], dtype=float32), array([[5.290949e-04, 9.988869e-01, 5.840310e-04]], dtype=float32), array([[7.653819e-07, 9.999987e-01, 6.038304e-07]], dtype=float32), array([[4.2246098e-05, 9.9977976e-01, 1.7802036e-04]], dtype=float32), array([[4.9112034e-05, 9.9991155e-01, 3.9373084e-05]], dtype=float32), array([[9.1288959e-05, 9.9941993e-01, 4.8881077e-04]], dtype=float32), array([[2.0232414e-06, 9.9999690e-01, 1.0279774e-06]], dtype=float32), array([[1.673543e-06, 9.999981e-01, 2.849162e-07]], dtype=float32), array([[1.2325497e-06, 9.9999869e-01, 1.7288949e-07]], dtype=float32), array([[2.9637897e-05, 9.9994731e-01, 2.2998565e-05]], dtype=float32), array([[3.9687725e-06, 9.9999142e-01, 4.6009818e-06]], dtype=float32), array([[2.7687178e-05, 9.9994755e-01, 2.4812896e-05]], dtype=float32), array([[1.4027746e-06, 9.9999809e-01, 4.3583680e-07]], dtype=float32), array([[2.9467460e-06, 9.9999511e-01, 1.8849572e-06]], dtype=float32), array([[5.149394e-06, 9.999908e-01, 4.048016e-06]], dtype=float32), array([[0.00217192, 0.975003  , 0.02282497]], dtype=float32), array([[2.7440647e-05, 9.9994993e-01, 2.2659755e-05]], dtype=float32), array([[1.5832837e-05, 9.9998128e-01, 2.8630313e-06]], dtype=float32), array([[6.8311034e-05, 9.9948043e-01, 4.5138720e-04]], dtype=float32), array([[8.7813714e-06, 9.9998820e-01, 3.0100073e-06]], dtype=float32), array([[1.063445e-05, 9.999851e-01, 4.275084e-06]], dtype=float32), array([[5.8690237e-04, 9.9930489e-01, 1.0814184e-04]], dtype=float32), array([[2.9353323e-06, 9.9999285e-01, 4.2203210e-06]], dtype=float32), array([[7.9202664e-06, 9.9998236e-01, 9.7312022e-06]], dtype=float32), array([[6.2233693e-07, 9.9999928e-01, 9.2318466e-08]], dtype=float32), array([[2.8359857e-06, 9.9999511e-01, 1.9887784e-06]], dtype=float32), array([[2.0296711e-06, 9.9999583e-01, 2.1278399e-06]], dtype=float32), array([[4.1785092e-06, 9.9999261e-01, 3.2374367e-06]], dtype=float32), array([[1.9946797e-06, 9.9998820e-01, 9.7448101e-06]], dtype=float32), array([[1.9293424e-05, 9.9989510e-01, 8.5623396e-05]], dtype=float32), array([[6.9078892e-06, 9.9996793e-01, 2.5147281e-05]], dtype=float32), array([[1.7354940e-06, 9.9999702e-01, 1.1713109e-06]], dtype=float32), array([[6.6456819e-06, 9.9998653e-01, 6.8505205e-06]], dtype=float32), array([[7.1978575e-06, 9.9996960e-01, 2.3278619e-05]], dtype=float32), array([[2.0482534e-05, 9.9993944e-01, 4.0025981e-05]], dtype=float32), array([[0.00108571, 0.99311113, 0.0058031 ]], dtype=float32), array([[1.4292510e-06, 9.9999678e-01, 1.7768666e-06]], dtype=float32), array([[3.4070399e-07, 9.9999928e-01, 3.2304865e-07]], dtype=float32), array([[1.357074e-06, 9.999980e-01, 7.326285e-07]], dtype=float32), array([[1.0907486e-05, 9.9998617e-01, 2.9881724e-06]], dtype=float32), array([[7.2378985e-05, 9.9984515e-01, 8.2469880e-05]], dtype=float32), array([[8.4817575e-06, 9.9998510e-01, 6.4150058e-06]], dtype=float32), array([[4.9850343e-07, 9.9999940e-01, 1.2510455e-07]], dtype=float32), array([[1.9617986e-05, 9.9997318e-01, 7.1893355e-06]], dtype=float32), array([[3.574223e-06, 9.999949e-01, 1.490825e-06]], dtype=float32), array([[1.749660e-05, 9.999739e-01, 8.614392e-06]], dtype=float32), array([[8.2908613e-05, 9.9983335e-01, 8.3638042e-05]], dtype=float32), array([[1.7549905e-06, 9.9999702e-01, 1.1634368e-06]], dtype=float32), array([[6.8412407e-04, 9.9357092e-01, 5.7450109e-03]], dtype=float32), array([[4.3059931e-06, 9.9999464e-01, 1.1324746e-06]], dtype=float32), array([[5.0814619e-06, 9.9999368e-01, 1.2063477e-06]], dtype=float32), array([[5.0116909e-05, 9.9981648e-01, 1.3345583e-04]], dtype=float32), array([[3.2826105e-05, 9.9991512e-01, 5.2130614e-05]], dtype=float32), array([[2.5676109e-04, 9.9953473e-01, 2.0854392e-04]], dtype=float32), array([[1.3914995e-05, 9.9998021e-01, 5.8633027e-06]], dtype=float32), array([[8.2956683e-07, 9.9999726e-01, 1.9113941e-06]], dtype=float32), array([[6.4038424e-05, 9.9992335e-01, 1.2693771e-05]], dtype=float32), array([[4.6812443e-06, 9.9999261e-01, 2.6901153e-06]], dtype=float32), array([[1.0660664e-05, 9.9997330e-01, 1.6036371e-05]], dtype=float32), array([[2.3481389e-05, 9.9996316e-01, 1.3291783e-05]], dtype=float32), array([[6.2676290e-06, 9.9999201e-01, 1.7163953e-06]], dtype=float32), array([[6.1477599e-06, 9.9999166e-01, 2.1957294e-06]], dtype=float32), array([[1.7081184e-05, 9.9997926e-01, 3.6800877e-06]], dtype=float32), array([[3.6542360e-06, 9.9999547e-01, 8.4526584e-07]], dtype=float32), array([[9.5556952e-06, 9.9998784e-01, 2.6400669e-06]], dtype=float32), array([[2.8668637e-06, 9.9999619e-01, 9.4151790e-07]], dtype=float32), array([[9.6717929e-05, 9.9975079e-01, 1.5242909e-04]], dtype=float32), array([[2.5863299e-05, 9.9995553e-01, 1.8569428e-05]], dtype=float32), array([[2.1118799e-04, 9.9930596e-01, 4.8276040e-04]], dtype=float32), array([[6.4696492e-06, 9.9998987e-01, 3.6736781e-06]], dtype=float32), array([[9.3411418e-06, 9.9998403e-01, 6.6635494e-06]], dtype=float32), array([[1.1611239e-06, 9.9999845e-01, 3.8678101e-07]], dtype=float32)]\n"
          ]
        }
      ]
    },
    {
      "cell_type": "code",
      "source": [
        "results\n"
      ],
      "metadata": {
        "colab": {
          "base_uri": "https://localhost:8080/"
        },
        "id": "dY_gIdHg6jwL",
        "outputId": "75b40dd0-2cde-4dee-b77d-548a39cfc5bb"
      },
      "execution_count": null,
      "outputs": [
        {
          "output_type": "execute_result",
          "data": {
            "text/plain": [
              "[array([[0.03752322, 0.24093848, 0.7215383 ]], dtype=float32),\n",
              " array([[5.290949e-04, 9.988869e-01, 5.840310e-04]], dtype=float32),\n",
              " array([[7.653819e-07, 9.999987e-01, 6.038304e-07]], dtype=float32),\n",
              " array([[4.2246098e-05, 9.9977976e-01, 1.7802036e-04]], dtype=float32),\n",
              " array([[4.9112034e-05, 9.9991155e-01, 3.9373084e-05]], dtype=float32),\n",
              " array([[9.1288959e-05, 9.9941993e-01, 4.8881077e-04]], dtype=float32),\n",
              " array([[2.0232414e-06, 9.9999690e-01, 1.0279774e-06]], dtype=float32),\n",
              " array([[1.673543e-06, 9.999981e-01, 2.849162e-07]], dtype=float32),\n",
              " array([[1.2325497e-06, 9.9999869e-01, 1.7288949e-07]], dtype=float32),\n",
              " array([[2.9637897e-05, 9.9994731e-01, 2.2998565e-05]], dtype=float32),\n",
              " array([[3.9687725e-06, 9.9999142e-01, 4.6009818e-06]], dtype=float32),\n",
              " array([[2.7687178e-05, 9.9994755e-01, 2.4812896e-05]], dtype=float32),\n",
              " array([[1.4027746e-06, 9.9999809e-01, 4.3583680e-07]], dtype=float32),\n",
              " array([[2.9467460e-06, 9.9999511e-01, 1.8849572e-06]], dtype=float32),\n",
              " array([[5.149394e-06, 9.999908e-01, 4.048016e-06]], dtype=float32),\n",
              " array([[0.00217192, 0.975003  , 0.02282497]], dtype=float32),\n",
              " array([[2.7440647e-05, 9.9994993e-01, 2.2659755e-05]], dtype=float32),\n",
              " array([[1.5832837e-05, 9.9998128e-01, 2.8630313e-06]], dtype=float32),\n",
              " array([[6.8311034e-05, 9.9948043e-01, 4.5138720e-04]], dtype=float32),\n",
              " array([[8.7813714e-06, 9.9998820e-01, 3.0100073e-06]], dtype=float32),\n",
              " array([[1.063445e-05, 9.999851e-01, 4.275084e-06]], dtype=float32),\n",
              " array([[5.8690237e-04, 9.9930489e-01, 1.0814184e-04]], dtype=float32),\n",
              " array([[2.9353323e-06, 9.9999285e-01, 4.2203210e-06]], dtype=float32),\n",
              " array([[7.9202664e-06, 9.9998236e-01, 9.7312022e-06]], dtype=float32),\n",
              " array([[6.2233693e-07, 9.9999928e-01, 9.2318466e-08]], dtype=float32),\n",
              " array([[2.8359857e-06, 9.9999511e-01, 1.9887784e-06]], dtype=float32),\n",
              " array([[2.0296711e-06, 9.9999583e-01, 2.1278399e-06]], dtype=float32),\n",
              " array([[4.1785092e-06, 9.9999261e-01, 3.2374367e-06]], dtype=float32),\n",
              " array([[1.9946797e-06, 9.9998820e-01, 9.7448101e-06]], dtype=float32),\n",
              " array([[1.9293424e-05, 9.9989510e-01, 8.5623396e-05]], dtype=float32),\n",
              " array([[6.9078892e-06, 9.9996793e-01, 2.5147281e-05]], dtype=float32),\n",
              " array([[1.7354940e-06, 9.9999702e-01, 1.1713109e-06]], dtype=float32),\n",
              " array([[6.6456819e-06, 9.9998653e-01, 6.8505205e-06]], dtype=float32),\n",
              " array([[7.1978575e-06, 9.9996960e-01, 2.3278619e-05]], dtype=float32),\n",
              " array([[2.0482534e-05, 9.9993944e-01, 4.0025981e-05]], dtype=float32),\n",
              " array([[0.00108571, 0.99311113, 0.0058031 ]], dtype=float32),\n",
              " array([[1.4292510e-06, 9.9999678e-01, 1.7768666e-06]], dtype=float32),\n",
              " array([[3.4070399e-07, 9.9999928e-01, 3.2304865e-07]], dtype=float32),\n",
              " array([[1.357074e-06, 9.999980e-01, 7.326285e-07]], dtype=float32),\n",
              " array([[1.0907486e-05, 9.9998617e-01, 2.9881724e-06]], dtype=float32),\n",
              " array([[7.2378985e-05, 9.9984515e-01, 8.2469880e-05]], dtype=float32),\n",
              " array([[8.4817575e-06, 9.9998510e-01, 6.4150058e-06]], dtype=float32),\n",
              " array([[4.9850343e-07, 9.9999940e-01, 1.2510455e-07]], dtype=float32),\n",
              " array([[1.9617986e-05, 9.9997318e-01, 7.1893355e-06]], dtype=float32),\n",
              " array([[3.574223e-06, 9.999949e-01, 1.490825e-06]], dtype=float32),\n",
              " array([[1.749660e-05, 9.999739e-01, 8.614392e-06]], dtype=float32),\n",
              " array([[8.2908613e-05, 9.9983335e-01, 8.3638042e-05]], dtype=float32),\n",
              " array([[1.7549905e-06, 9.9999702e-01, 1.1634368e-06]], dtype=float32),\n",
              " array([[6.8412407e-04, 9.9357092e-01, 5.7450109e-03]], dtype=float32),\n",
              " array([[4.3059931e-06, 9.9999464e-01, 1.1324746e-06]], dtype=float32),\n",
              " array([[5.0814619e-06, 9.9999368e-01, 1.2063477e-06]], dtype=float32),\n",
              " array([[5.0116909e-05, 9.9981648e-01, 1.3345583e-04]], dtype=float32),\n",
              " array([[3.2826105e-05, 9.9991512e-01, 5.2130614e-05]], dtype=float32),\n",
              " array([[2.5676109e-04, 9.9953473e-01, 2.0854392e-04]], dtype=float32),\n",
              " array([[1.3914995e-05, 9.9998021e-01, 5.8633027e-06]], dtype=float32),\n",
              " array([[8.2956683e-07, 9.9999726e-01, 1.9113941e-06]], dtype=float32),\n",
              " array([[6.4038424e-05, 9.9992335e-01, 1.2693771e-05]], dtype=float32),\n",
              " array([[4.6812443e-06, 9.9999261e-01, 2.6901153e-06]], dtype=float32),\n",
              " array([[1.0660664e-05, 9.9997330e-01, 1.6036371e-05]], dtype=float32),\n",
              " array([[2.3481389e-05, 9.9996316e-01, 1.3291783e-05]], dtype=float32),\n",
              " array([[6.2676290e-06, 9.9999201e-01, 1.7163953e-06]], dtype=float32),\n",
              " array([[6.1477599e-06, 9.9999166e-01, 2.1957294e-06]], dtype=float32),\n",
              " array([[1.7081184e-05, 9.9997926e-01, 3.6800877e-06]], dtype=float32),\n",
              " array([[3.6542360e-06, 9.9999547e-01, 8.4526584e-07]], dtype=float32),\n",
              " array([[9.5556952e-06, 9.9998784e-01, 2.6400669e-06]], dtype=float32),\n",
              " array([[2.8668637e-06, 9.9999619e-01, 9.4151790e-07]], dtype=float32),\n",
              " array([[9.6717929e-05, 9.9975079e-01, 1.5242909e-04]], dtype=float32),\n",
              " array([[2.5863299e-05, 9.9995553e-01, 1.8569428e-05]], dtype=float32),\n",
              " array([[2.1118799e-04, 9.9930596e-01, 4.8276040e-04]], dtype=float32),\n",
              " array([[6.4696492e-06, 9.9998987e-01, 3.6736781e-06]], dtype=float32),\n",
              " array([[9.3411418e-06, 9.9998403e-01, 6.6635494e-06]], dtype=float32),\n",
              " array([[1.1611239e-06, 9.9999845e-01, 3.8678101e-07]], dtype=float32)]"
            ]
          },
          "metadata": {},
          "execution_count": 97
        }
      ]
    },
    {
      "cell_type": "code",
      "source": [
        "results[0]"
      ],
      "metadata": {
        "colab": {
          "base_uri": "https://localhost:8080/"
        },
        "id": "KyP-s40Q67gO",
        "outputId": "2a1c13fb-8def-4e77-87b4-c59fd7d958c8"
      },
      "execution_count": null,
      "outputs": [
        {
          "output_type": "execute_result",
          "data": {
            "text/plain": [
              "array([[0.03752322, 0.24093848, 0.7215383 ]], dtype=float32)"
            ]
          },
          "metadata": {},
          "execution_count": 100
        }
      ]
    },
    {
      "cell_type": "code",
      "source": [
        "other = 0\n",
        "sarah = 0\n",
        "yasmeen = 0\n",
        "for i in range(70):\n",
        "  highest_index = np.argmax(results[i], axis=1)\n",
        "  print(highest_index)\n",
        "  if highest_index == 0:\n",
        "    other = other+1\n",
        "  elif highest_index == 1:\n",
        "    sarah = sarah+1\n",
        "  elif highest_index==2:\n",
        "    yasmeen = yasmeen +1\n",
        "\n",
        "if sarah > yasmeen and sarah > other:\n",
        "  face = 'sarah'\n",
        "elif yasmeen >other and yasmeen >sarah:\n",
        "  face = 'yasmeen'\n",
        "elif other >sarah and other > yasmeen:\n",
        "  face = 'other'"
      ],
      "metadata": {
        "colab": {
          "base_uri": "https://localhost:8080/"
        },
        "id": "2jGuSj6L6lgc",
        "outputId": "d31d975f-3837-4437-cc85-b5cce7ac8d03"
      },
      "execution_count": null,
      "outputs": [
        {
          "output_type": "stream",
          "name": "stdout",
          "text": [
            "[2]\n",
            "[1]\n",
            "[1]\n",
            "[1]\n",
            "[1]\n",
            "[1]\n",
            "[1]\n",
            "[1]\n",
            "[1]\n",
            "[1]\n",
            "[1]\n",
            "[1]\n",
            "[1]\n",
            "[1]\n",
            "[1]\n",
            "[1]\n",
            "[1]\n",
            "[1]\n",
            "[1]\n",
            "[1]\n",
            "[1]\n",
            "[1]\n",
            "[1]\n",
            "[1]\n",
            "[1]\n",
            "[1]\n",
            "[1]\n",
            "[1]\n",
            "[1]\n",
            "[1]\n",
            "[1]\n",
            "[1]\n",
            "[1]\n",
            "[1]\n",
            "[1]\n",
            "[1]\n",
            "[1]\n",
            "[1]\n",
            "[1]\n",
            "[1]\n",
            "[1]\n",
            "[1]\n",
            "[1]\n",
            "[1]\n",
            "[1]\n",
            "[1]\n",
            "[1]\n",
            "[1]\n",
            "[1]\n",
            "[1]\n",
            "[1]\n",
            "[1]\n",
            "[1]\n",
            "[1]\n",
            "[1]\n",
            "[1]\n",
            "[1]\n",
            "[1]\n",
            "[1]\n",
            "[1]\n",
            "[1]\n",
            "[1]\n",
            "[1]\n",
            "[1]\n",
            "[1]\n",
            "[1]\n",
            "[1]\n",
            "[1]\n",
            "[1]\n",
            "[1]\n"
          ]
        }
      ]
    },
    {
      "cell_type": "code",
      "source": [],
      "metadata": {
        "id": "FCvmhsIU61e1"
      },
      "execution_count": null,
      "outputs": []
    }
  ]
}
