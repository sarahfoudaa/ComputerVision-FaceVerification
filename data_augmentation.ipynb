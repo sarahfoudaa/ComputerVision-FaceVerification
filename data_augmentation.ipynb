{
  "nbformat": 4,
  "nbformat_minor": 0,
  "metadata": {
    "colab": {
      "provenance": []
    },
    "kernelspec": {
      "name": "python3",
      "display_name": "Python 3"
    },
    "language_info": {
      "name": "python"
    }
  },
  "cells": [
    {
      "cell_type": "code",
      "source": [
        "import os\n",
        "import time\n",
        "import uuid\n",
        "import cv2\n",
        "import pandas as pd\n",
        "import numpy as np\n",
        "import matplotlib.pyplot as plt\n"
      ],
      "metadata": {
        "id": "BeTHAk-qBCb-"
      },
      "execution_count": null,
      "outputs": []
    },
    {
      "cell_type": "code",
      "source": [
        "print('test')"
      ],
      "metadata": {
        "colab": {
          "base_uri": "https://localhost:8080/"
        },
        "id": "QHR5CybQL064",
        "outputId": "c3021e13-1405-47b1-9c95-70f7e142b01e"
      },
      "execution_count": null,
      "outputs": [
        {
          "output_type": "stream",
          "name": "stdout",
          "text": [
            "test\n"
          ]
        }
      ]
    },
    {
      "cell_type": "code",
      "source": [
        "# Import tensorflow dependencies - Functional API\n",
        "from tensorflow.keras.models import Model\n",
        "from tensorflow.keras.layers import Layer, Conv2D, Dense, MaxPooling2D, Input, Flatten\n",
        "import tensorflow as tf"
      ],
      "metadata": {
        "id": "kEH_Jjf5IAb-"
      },
      "execution_count": null,
      "outputs": []
    },
    {
      "cell_type": "code",
      "source": [
        "from google.colab import drive\n",
        "\n",
        "drive.mount('/content/gdrive/', force_remount=True)"
      ],
      "metadata": {
        "id": "JGXUD_cyBDR7",
        "colab": {
          "base_uri": "https://localhost:8080/"
        },
        "outputId": "1b1be34a-2956-498c-854a-5719324c4956"
      },
      "execution_count": null,
      "outputs": [
        {
          "output_type": "stream",
          "name": "stdout",
          "text": [
            "Mounted at /content/gdrive/\n"
          ]
        }
      ]
    },
    {
      "cell_type": "code",
      "source": [
        "%cd gdrive/MyDrive"
      ],
      "metadata": {
        "id": "gO6LzY_kBDVE",
        "colab": {
          "base_uri": "https://localhost:8080/"
        },
        "outputId": "6248cb4b-2941-4a68-e793-d078691a58bc"
      },
      "execution_count": null,
      "outputs": [
        {
          "output_type": "stream",
          "name": "stdout",
          "text": [
            "[Errno 107] Transport endpoint is not connected: 'gdrive/MyDrive'\n",
            "/content/gdrive/MyDrive\n"
          ]
        }
      ]
    },
    {
      "cell_type": "code",
      "source": [
        "\n",
        "anc_sarah_PATH ='/content/gdrive/MyDrive/NTI/Automated Video Surveillance/face_verification/face_dataset/anc_sarah'\n",
        "\n",
        "anc_yasmeen_PATH ='/content/gdrive/MyDrive/NTI/Automated Video Surveillance/face_verification/face_dataset/anc_yasmeen'\n",
        "\n",
        "pos_sarah_PATH = '/content/gdrive/MyDrive/NTI/Automated Video Surveillance/face_verification/face_dataset/pos_sarah'\n",
        "\n",
        "pos_yasmen_PATH = '/content/gdrive/MyDrive/NTI/Automated Video Surveillance/face_verification/face_dataset/pos_yasmeen'\n",
        "\n",
        "negative = '/content/gdrive/MyDrive/NTI/Automated Video Surveillance/face_verification/face_dataset/negative'"
      ],
      "metadata": {
        "id": "QA4um99WBDaD"
      },
      "execution_count": null,
      "outputs": []
    },
    {
      "cell_type": "code",
      "source": [
        "negs="
      ],
      "metadata": {
        "id": "DDBhOFf-BDdX"
      },
      "execution_count": null,
      "outputs": []
    },
    {
      "cell_type": "code",
      "source": [
        "#raw\n",
        "raw_sarah = '/content/gdrive/MyDrive/NTI/Automated Video Surveillance/face_verification/raw images/pos_sarah'\n",
        "\n",
        "raw_yasmeen ='/content/gdrive/MyDrive/NTI/Automated Video Surveillance/face_verification/raw images/pos_yasmeen'\n",
        "\n",
        "raw_anc_s = '/content/gdrive/MyDrive/NTI/Automated Video Surveillance/face_verification/raw images/anc_sarah'\n",
        "\n",
        "raw_anc_y = '/content/gdrive/MyDrive/NTI/Automated Video Surveillance/face_verification/raw images/anc_yasmeen'\n",
        "\n",
        "yasmeen_mobil = '/content/gdrive/MyDrive/NTI/Automated Video Surveillance/face_verification/raw images/yasmeen mobil uploads'"
      ],
      "metadata": {
        "id": "s8_iK85nBDhu"
      },
      "execution_count": null,
      "outputs": []
    },
    {
      "cell_type": "code",
      "source": [
        "#new\n",
        "\n",
        "anc_yasmeen = '/content/gdrive/MyDrive/NTI/Automated Video Surveillance/face_verification/datasetV2/anc_yasmeen'\n",
        "anc_sarah = '/content/gdrive/MyDrive/NTI/Automated Video Surveillance/face_verification/datasetV2/anc_sarah'\n",
        "pos_yasmenn = '/content/gdrive/MyDrive/NTI/Automated Video Surveillance/face_verification/datasetV2/pos_yasmeen'\n",
        "pos_sarah = '/content/gdrive/MyDrive/NTI/Automated Video Surveillance/face_verification/datasetV2/pos_sarah'"
      ],
      "metadata": {
        "id": "wdmeUh18auNl"
      },
      "execution_count": null,
      "outputs": []
    },
    {
      "cell_type": "code",
      "source": [
        "#mobil from\n",
        "sarah_mob = '/content/drive/MyDrive/NTI/Automated Video Surveillance/face_verification/raw images/Dataset'\n",
        "\n",
        "yasmeen_mob = '/content/drive/MyDrive/NTI/Automated Video Surveillance/face_verification/raw images/yasmeen mobil uploads'"
      ],
      "metadata": {
        "id": "gG_twt95auQq"
      },
      "execution_count": null,
      "outputs": []
    },
    {
      "cell_type": "code",
      "source": [
        "#datasetv2 destination\n",
        "\n",
        "sarah = '/content/drive/MyDrive/NTI/Automated Video Surveillance/face_verification/datasetV2/pos_sarah'\n",
        "yasmeen = '/content/drive/MyDrive/NTI/Automated Video Surveillance/face_verification/datasetV2/pos_yasmeen'"
      ],
      "metadata": {
        "id": "g-C5G8JkauUA"
      },
      "execution_count": null,
      "outputs": []
    },
    {
      "cell_type": "code",
      "source": [],
      "metadata": {
        "id": "dFOdx3RDBDkE"
      },
      "execution_count": null,
      "outputs": []
    },
    {
      "cell_type": "code",
      "source": [],
      "metadata": {
        "id": "2qjzqnp8BDm7"
      },
      "execution_count": null,
      "outputs": []
    },
    {
      "cell_type": "code",
      "execution_count": null,
      "metadata": {
        "id": "Cf4pftTW-YOI"
      },
      "outputs": [],
      "source": [
        "def data_aug(img):\n",
        "    data = []\n",
        "    for i in range(5):\n",
        "        img = tf.image.stateless_random_brightness(img, max_delta=0.02, seed=(1,2))\n",
        "        img = tf.image.stateless_random_contrast(img, lower=0.6, upper=1, seed=(1,3))\n",
        "        # img = tf.image.stateless_random_crop(img, size=(20,20,3), seed=(1,2))\n",
        "        img = tf.image.stateless_random_flip_left_right(img, seed=(np.random.randint(100),np.random.randint(100)))\n",
        "        img = tf.image.stateless_random_jpeg_quality(img, min_jpeg_quality=90, max_jpeg_quality=100, seed=(np.random.randint(100),np.random.randint(100)))\n",
        "        img = tf.image.stateless_random_saturation(img, lower=0.9,upper=1, seed=(np.random.randint(100),np.random.randint(100)))\n",
        "\n",
        "        data.append(img)\n",
        "\n",
        "    return data"
      ]
    },
    {
      "cell_type": "code",
      "source": [
        "def augment(path,new_path):\n",
        "    for file_name in os.listdir(os.path.join(path)):\n",
        "        img_path = os.path.join(path, file_name)\n",
        "        img = cv2.imread(img_path)\n",
        "        augmented_images = data_aug(img)\n",
        "        cv2.imwrite(os.path.join(new_path, '{}.jpg'.format(uuid.uuid1())), img.numpy())\n",
        "        print('done')\n",
        "        for image in augmented_images:\n",
        "            cv2.imwrite(os.path.join(new_path, '{}.jpg'.format(uuid.uuid1())), image.numpy())\n",
        "            print('done')\n",
        ""
      ],
      "metadata": {
        "id": "bRuPOkrLLR8t"
      },
      "execution_count": null,
      "outputs": []
    },
    {
      "cell_type": "code",
      "source": [
        "augment(sarah_mob,sarah)"
      ],
      "metadata": {
        "id": "42oERBeUJG-7"
      },
      "execution_count": null,
      "outputs": []
    },
    {
      "cell_type": "code",
      "source": [
        "augment(yasmeen_mob,yasmeen)"
      ],
      "metadata": {
        "id": "xTRa-ANRKOpC"
      },
      "execution_count": null,
      "outputs": []
    },
    {
      "cell_type": "code",
      "source": [
        "augment(anc_sarah_PATH)"
      ],
      "metadata": {
        "id": "2QPLTA7JLR5t"
      },
      "execution_count": null,
      "outputs": []
    },
    {
      "cell_type": "code",
      "source": [
        "augment(anc_yasmeen_PATH)"
      ],
      "metadata": {
        "id": "Aw6Fcwv2LR27"
      },
      "execution_count": null,
      "outputs": []
    },
    {
      "cell_type": "code",
      "source": [
        "augment(pos_sarah_PATH)"
      ],
      "metadata": {
        "id": "9BBeeRb_LR0S"
      },
      "execution_count": null,
      "outputs": []
    },
    {
      "cell_type": "code",
      "source": [
        "augment(pos_yasmen_PATH)"
      ],
      "metadata": {
        "id": "a1Y7MzpdLRyH"
      },
      "execution_count": null,
      "outputs": []
    },
    {
      "cell_type": "code",
      "source": [
        "dataset = pd.DataFrame(np.zeros(2000, ))\n",
        "dataset['anchor'] = 'a'\n",
        "dataset['validation'] = 'v'\n",
        "dataset['lable']= 0"
      ],
      "metadata": {
        "id": "xil9q60_LRpR"
      },
      "execution_count": null,
      "outputs": []
    },
    {
      "cell_type": "code",
      "source": [
        "sp = []\n",
        "yp = []\n",
        "sa = []\n",
        "ya = []\n",
        "n=[]\n",
        "ns =[]\n",
        "ny=[]\n",
        "\n",
        "\n",
        "paths = os.listdir(anc_sarah_PATH)\n",
        "for path in paths:\n",
        "    sa.append(anc_sarah_PATH+'/'+path)\n",
        "\n",
        "\n",
        "\n",
        "paths = os.listdir(anc_yasmeen_PATH)\n",
        "for path in paths:\n",
        "    ya.append(anc_yasmeen_PATH+'/'+path)\n",
        "\n",
        "\n",
        "paths = os.listdir(pos_sarah_PATH)\n",
        "for path in paths:\n",
        "    sp.append(pos_sarah_PATH+'/'+path)\n",
        "\n",
        "\n",
        "\n",
        "paths = os.listdir(pos_yasmen_PATH)\n",
        "for path in paths:\n",
        "    yp.append(pos_yasmen_PATH+'/'+path)\n",
        "\n",
        "\n",
        "paths = os.listdir(pos_yasmen_PATH)\n",
        "for path in paths:\n",
        "    ns.append(pos_yasmen_PATH+'/'+path)\n",
        "\n",
        "\n",
        "paths = os.listdir(pos_yasmen_PATH)\n",
        "for path in paths:\n",
        "    ny.append(pos_yasmen_PATH+'/'+path)\n",
        "\n",
        "\n",
        "paths = os.listdir(negative)\n",
        "for path in paths:\n",
        "    n.append(negative+'/'+path)\n",
        "\n",
        "ns = n[:500]\n",
        "ny = n[-500:]\n"
      ],
      "metadata": {
        "id": "eql7CoM8VUzZ"
      },
      "execution_count": null,
      "outputs": []
    },
    {
      "cell_type": "code",
      "source": [
        "anc = sa+sa+ya+ya\n",
        "val = sp+ns+yp+ny"
      ],
      "metadata": {
        "id": "2-umPX7rVU12"
      },
      "execution_count": null,
      "outputs": []
    },
    {
      "cell_type": "code",
      "source": [
        "dataset['anchor'] = anc\n",
        "dataset['validation']=val"
      ],
      "metadata": {
        "id": "ujI1t_1pVU4J"
      },
      "execution_count": null,
      "outputs": []
    },
    {
      "cell_type": "code",
      "source": [
        "dataset.loc[0:499, 'lable'] = 1\n",
        "\n",
        "dataset.loc[500:999, 'lable'] = 0\n",
        "\n",
        "dataset.loc[1000:1499, 'lable'] = 2\n",
        "dataset.loc[1500:1999, 'lable'] = 0"
      ],
      "metadata": {
        "id": "Ra217aSDVU6r"
      },
      "execution_count": null,
      "outputs": []
    },
    {
      "cell_type": "code",
      "source": [
        "dataset"
      ],
      "metadata": {
        "id": "jCX89kMSLRmY",
        "colab": {
          "base_uri": "https://localhost:8080/",
          "height": 641
        },
        "outputId": "99c26133-be1d-4bc8-9568-740ebd28e767"
      },
      "execution_count": null,
      "outputs": [
        {
          "output_type": "execute_result",
          "data": {
            "text/plain": [
              "        0                                             anchor  \\\n",
              "0     0.0  /content/gdrive/MyDrive/NTI/Automated Video Su...   \n",
              "1     0.0  /content/gdrive/MyDrive/NTI/Automated Video Su...   \n",
              "2     0.0  /content/gdrive/MyDrive/NTI/Automated Video Su...   \n",
              "3     0.0  /content/gdrive/MyDrive/NTI/Automated Video Su...   \n",
              "4     0.0  /content/gdrive/MyDrive/NTI/Automated Video Su...   \n",
              "...   ...                                                ...   \n",
              "1995  0.0  /content/gdrive/MyDrive/NTI/Automated Video Su...   \n",
              "1996  0.0  /content/gdrive/MyDrive/NTI/Automated Video Su...   \n",
              "1997  0.0  /content/gdrive/MyDrive/NTI/Automated Video Su...   \n",
              "1998  0.0  /content/gdrive/MyDrive/NTI/Automated Video Su...   \n",
              "1999  0.0  /content/gdrive/MyDrive/NTI/Automated Video Su...   \n",
              "\n",
              "                                             validation  lable  \n",
              "0     /content/gdrive/MyDrive/NTI/Automated Video Su...      1  \n",
              "1     /content/gdrive/MyDrive/NTI/Automated Video Su...      1  \n",
              "2     /content/gdrive/MyDrive/NTI/Automated Video Su...      1  \n",
              "3     /content/gdrive/MyDrive/NTI/Automated Video Su...      1  \n",
              "4     /content/gdrive/MyDrive/NTI/Automated Video Su...      1  \n",
              "...                                                 ...    ...  \n",
              "1995  /content/gdrive/MyDrive/NTI/Automated Video Su...      0  \n",
              "1996  /content/gdrive/MyDrive/NTI/Automated Video Su...      0  \n",
              "1997  /content/gdrive/MyDrive/NTI/Automated Video Su...      0  \n",
              "1998  /content/gdrive/MyDrive/NTI/Automated Video Su...      0  \n",
              "1999  /content/gdrive/MyDrive/NTI/Automated Video Su...      0  \n",
              "\n",
              "[2000 rows x 4 columns]"
            ],
            "text/html": [
              "\n",
              "  <div id=\"df-a635b596-1da8-4d70-a577-56e38b05c203\">\n",
              "    <div class=\"colab-df-container\">\n",
              "      <div>\n",
              "<style scoped>\n",
              "    .dataframe tbody tr th:only-of-type {\n",
              "        vertical-align: middle;\n",
              "    }\n",
              "\n",
              "    .dataframe tbody tr th {\n",
              "        vertical-align: top;\n",
              "    }\n",
              "\n",
              "    .dataframe thead th {\n",
              "        text-align: right;\n",
              "    }\n",
              "</style>\n",
              "<table border=\"1\" class=\"dataframe\">\n",
              "  <thead>\n",
              "    <tr style=\"text-align: right;\">\n",
              "      <th></th>\n",
              "      <th>0</th>\n",
              "      <th>anchor</th>\n",
              "      <th>validation</th>\n",
              "      <th>lable</th>\n",
              "    </tr>\n",
              "  </thead>\n",
              "  <tbody>\n",
              "    <tr>\n",
              "      <th>0</th>\n",
              "      <td>0.0</td>\n",
              "      <td>/content/gdrive/MyDrive/NTI/Automated Video Su...</td>\n",
              "      <td>/content/gdrive/MyDrive/NTI/Automated Video Su...</td>\n",
              "      <td>1</td>\n",
              "    </tr>\n",
              "    <tr>\n",
              "      <th>1</th>\n",
              "      <td>0.0</td>\n",
              "      <td>/content/gdrive/MyDrive/NTI/Automated Video Su...</td>\n",
              "      <td>/content/gdrive/MyDrive/NTI/Automated Video Su...</td>\n",
              "      <td>1</td>\n",
              "    </tr>\n",
              "    <tr>\n",
              "      <th>2</th>\n",
              "      <td>0.0</td>\n",
              "      <td>/content/gdrive/MyDrive/NTI/Automated Video Su...</td>\n",
              "      <td>/content/gdrive/MyDrive/NTI/Automated Video Su...</td>\n",
              "      <td>1</td>\n",
              "    </tr>\n",
              "    <tr>\n",
              "      <th>3</th>\n",
              "      <td>0.0</td>\n",
              "      <td>/content/gdrive/MyDrive/NTI/Automated Video Su...</td>\n",
              "      <td>/content/gdrive/MyDrive/NTI/Automated Video Su...</td>\n",
              "      <td>1</td>\n",
              "    </tr>\n",
              "    <tr>\n",
              "      <th>4</th>\n",
              "      <td>0.0</td>\n",
              "      <td>/content/gdrive/MyDrive/NTI/Automated Video Su...</td>\n",
              "      <td>/content/gdrive/MyDrive/NTI/Automated Video Su...</td>\n",
              "      <td>1</td>\n",
              "    </tr>\n",
              "    <tr>\n",
              "      <th>...</th>\n",
              "      <td>...</td>\n",
              "      <td>...</td>\n",
              "      <td>...</td>\n",
              "      <td>...</td>\n",
              "    </tr>\n",
              "    <tr>\n",
              "      <th>1995</th>\n",
              "      <td>0.0</td>\n",
              "      <td>/content/gdrive/MyDrive/NTI/Automated Video Su...</td>\n",
              "      <td>/content/gdrive/MyDrive/NTI/Automated Video Su...</td>\n",
              "      <td>0</td>\n",
              "    </tr>\n",
              "    <tr>\n",
              "      <th>1996</th>\n",
              "      <td>0.0</td>\n",
              "      <td>/content/gdrive/MyDrive/NTI/Automated Video Su...</td>\n",
              "      <td>/content/gdrive/MyDrive/NTI/Automated Video Su...</td>\n",
              "      <td>0</td>\n",
              "    </tr>\n",
              "    <tr>\n",
              "      <th>1997</th>\n",
              "      <td>0.0</td>\n",
              "      <td>/content/gdrive/MyDrive/NTI/Automated Video Su...</td>\n",
              "      <td>/content/gdrive/MyDrive/NTI/Automated Video Su...</td>\n",
              "      <td>0</td>\n",
              "    </tr>\n",
              "    <tr>\n",
              "      <th>1998</th>\n",
              "      <td>0.0</td>\n",
              "      <td>/content/gdrive/MyDrive/NTI/Automated Video Su...</td>\n",
              "      <td>/content/gdrive/MyDrive/NTI/Automated Video Su...</td>\n",
              "      <td>0</td>\n",
              "    </tr>\n",
              "    <tr>\n",
              "      <th>1999</th>\n",
              "      <td>0.0</td>\n",
              "      <td>/content/gdrive/MyDrive/NTI/Automated Video Su...</td>\n",
              "      <td>/content/gdrive/MyDrive/NTI/Automated Video Su...</td>\n",
              "      <td>0</td>\n",
              "    </tr>\n",
              "  </tbody>\n",
              "</table>\n",
              "<p>2000 rows × 4 columns</p>\n",
              "</div>\n",
              "      <button class=\"colab-df-convert\" onclick=\"convertToInteractive('df-a635b596-1da8-4d70-a577-56e38b05c203')\"\n",
              "              title=\"Convert this dataframe to an interactive table.\"\n",
              "              style=\"display:none;\">\n",
              "        \n",
              "  <svg xmlns=\"http://www.w3.org/2000/svg\" height=\"24px\"viewBox=\"0 0 24 24\"\n",
              "       width=\"24px\">\n",
              "    <path d=\"M0 0h24v24H0V0z\" fill=\"none\"/>\n",
              "    <path d=\"M18.56 5.44l.94 2.06.94-2.06 2.06-.94-2.06-.94-.94-2.06-.94 2.06-2.06.94zm-11 1L8.5 8.5l.94-2.06 2.06-.94-2.06-.94L8.5 2.5l-.94 2.06-2.06.94zm10 10l.94 2.06.94-2.06 2.06-.94-2.06-.94-.94-2.06-.94 2.06-2.06.94z\"/><path d=\"M17.41 7.96l-1.37-1.37c-.4-.4-.92-.59-1.43-.59-.52 0-1.04.2-1.43.59L10.3 9.45l-7.72 7.72c-.78.78-.78 2.05 0 2.83L4 21.41c.39.39.9.59 1.41.59.51 0 1.02-.2 1.41-.59l7.78-7.78 2.81-2.81c.8-.78.8-2.07 0-2.86zM5.41 20L4 18.59l7.72-7.72 1.47 1.35L5.41 20z\"/>\n",
              "  </svg>\n",
              "      </button>\n",
              "      \n",
              "  <style>\n",
              "    .colab-df-container {\n",
              "      display:flex;\n",
              "      flex-wrap:wrap;\n",
              "      gap: 12px;\n",
              "    }\n",
              "\n",
              "    .colab-df-convert {\n",
              "      background-color: #E8F0FE;\n",
              "      border: none;\n",
              "      border-radius: 50%;\n",
              "      cursor: pointer;\n",
              "      display: none;\n",
              "      fill: #1967D2;\n",
              "      height: 32px;\n",
              "      padding: 0 0 0 0;\n",
              "      width: 32px;\n",
              "    }\n",
              "\n",
              "    .colab-df-convert:hover {\n",
              "      background-color: #E2EBFA;\n",
              "      box-shadow: 0px 1px 2px rgba(60, 64, 67, 0.3), 0px 1px 3px 1px rgba(60, 64, 67, 0.15);\n",
              "      fill: #174EA6;\n",
              "    }\n",
              "\n",
              "    [theme=dark] .colab-df-convert {\n",
              "      background-color: #3B4455;\n",
              "      fill: #D2E3FC;\n",
              "    }\n",
              "\n",
              "    [theme=dark] .colab-df-convert:hover {\n",
              "      background-color: #434B5C;\n",
              "      box-shadow: 0px 1px 3px 1px rgba(0, 0, 0, 0.15);\n",
              "      filter: drop-shadow(0px 1px 2px rgba(0, 0, 0, 0.3));\n",
              "      fill: #FFFFFF;\n",
              "    }\n",
              "  </style>\n",
              "\n",
              "      <script>\n",
              "        const buttonEl =\n",
              "          document.querySelector('#df-a635b596-1da8-4d70-a577-56e38b05c203 button.colab-df-convert');\n",
              "        buttonEl.style.display =\n",
              "          google.colab.kernel.accessAllowed ? 'block' : 'none';\n",
              "\n",
              "        async function convertToInteractive(key) {\n",
              "          const element = document.querySelector('#df-a635b596-1da8-4d70-a577-56e38b05c203');\n",
              "          const dataTable =\n",
              "            await google.colab.kernel.invokeFunction('convertToInteractive',\n",
              "                                                     [key], {});\n",
              "          if (!dataTable) return;\n",
              "\n",
              "          const docLinkHtml = 'Like what you see? Visit the ' +\n",
              "            '<a target=\"_blank\" href=https://colab.research.google.com/notebooks/data_table.ipynb>data table notebook</a>'\n",
              "            + ' to learn more about interactive tables.';\n",
              "          element.innerHTML = '';\n",
              "          dataTable['output_type'] = 'display_data';\n",
              "          await google.colab.output.renderOutput(dataTable, element);\n",
              "          const docLink = document.createElement('div');\n",
              "          docLink.innerHTML = docLinkHtml;\n",
              "          element.appendChild(docLink);\n",
              "        }\n",
              "      </script>\n",
              "    </div>\n",
              "  </div>\n",
              "  "
            ]
          },
          "metadata": {},
          "execution_count": 14
        }
      ]
    },
    {
      "cell_type": "code",
      "source": [
        "dataset = dataset[['anchor','validation','lable']]\n"
      ],
      "metadata": {
        "id": "yoppB7CcLRj3"
      },
      "execution_count": null,
      "outputs": []
    },
    {
      "cell_type": "code",
      "source": [
        "dataset"
      ],
      "metadata": {
        "colab": {
          "base_uri": "https://localhost:8080/",
          "height": 467
        },
        "id": "kATjmKKeuYIJ",
        "outputId": "fe05f059-9295-4b04-89a3-a75fb24a4473"
      },
      "execution_count": null,
      "outputs": [
        {
          "output_type": "execute_result",
          "data": {
            "text/plain": [
              "                                                 anchor  \\\n",
              "0     /content/gdrive/MyDrive/NTI/Automated Video Su...   \n",
              "1     /content/gdrive/MyDrive/NTI/Automated Video Su...   \n",
              "2     /content/gdrive/MyDrive/NTI/Automated Video Su...   \n",
              "3     /content/gdrive/MyDrive/NTI/Automated Video Su...   \n",
              "4     /content/gdrive/MyDrive/NTI/Automated Video Su...   \n",
              "...                                                 ...   \n",
              "1995  /content/gdrive/MyDrive/NTI/Automated Video Su...   \n",
              "1996  /content/gdrive/MyDrive/NTI/Automated Video Su...   \n",
              "1997  /content/gdrive/MyDrive/NTI/Automated Video Su...   \n",
              "1998  /content/gdrive/MyDrive/NTI/Automated Video Su...   \n",
              "1999  /content/gdrive/MyDrive/NTI/Automated Video Su...   \n",
              "\n",
              "                                             validation  lable  \n",
              "0     /content/gdrive/MyDrive/NTI/Automated Video Su...      1  \n",
              "1     /content/gdrive/MyDrive/NTI/Automated Video Su...      1  \n",
              "2     /content/gdrive/MyDrive/NTI/Automated Video Su...      1  \n",
              "3     /content/gdrive/MyDrive/NTI/Automated Video Su...      1  \n",
              "4     /content/gdrive/MyDrive/NTI/Automated Video Su...      1  \n",
              "...                                                 ...    ...  \n",
              "1995  /content/gdrive/MyDrive/NTI/Automated Video Su...      0  \n",
              "1996  /content/gdrive/MyDrive/NTI/Automated Video Su...      0  \n",
              "1997  /content/gdrive/MyDrive/NTI/Automated Video Su...      0  \n",
              "1998  /content/gdrive/MyDrive/NTI/Automated Video Su...      0  \n",
              "1999  /content/gdrive/MyDrive/NTI/Automated Video Su...      0  \n",
              "\n",
              "[2000 rows x 3 columns]"
            ],
            "text/html": [
              "\n",
              "  <div id=\"df-34c9fdbc-5154-4fed-80b3-0db04ae4db49\">\n",
              "    <div class=\"colab-df-container\">\n",
              "      <div>\n",
              "<style scoped>\n",
              "    .dataframe tbody tr th:only-of-type {\n",
              "        vertical-align: middle;\n",
              "    }\n",
              "\n",
              "    .dataframe tbody tr th {\n",
              "        vertical-align: top;\n",
              "    }\n",
              "\n",
              "    .dataframe thead th {\n",
              "        text-align: right;\n",
              "    }\n",
              "</style>\n",
              "<table border=\"1\" class=\"dataframe\">\n",
              "  <thead>\n",
              "    <tr style=\"text-align: right;\">\n",
              "      <th></th>\n",
              "      <th>anchor</th>\n",
              "      <th>validation</th>\n",
              "      <th>lable</th>\n",
              "    </tr>\n",
              "  </thead>\n",
              "  <tbody>\n",
              "    <tr>\n",
              "      <th>0</th>\n",
              "      <td>/content/gdrive/MyDrive/NTI/Automated Video Su...</td>\n",
              "      <td>/content/gdrive/MyDrive/NTI/Automated Video Su...</td>\n",
              "      <td>1</td>\n",
              "    </tr>\n",
              "    <tr>\n",
              "      <th>1</th>\n",
              "      <td>/content/gdrive/MyDrive/NTI/Automated Video Su...</td>\n",
              "      <td>/content/gdrive/MyDrive/NTI/Automated Video Su...</td>\n",
              "      <td>1</td>\n",
              "    </tr>\n",
              "    <tr>\n",
              "      <th>2</th>\n",
              "      <td>/content/gdrive/MyDrive/NTI/Automated Video Su...</td>\n",
              "      <td>/content/gdrive/MyDrive/NTI/Automated Video Su...</td>\n",
              "      <td>1</td>\n",
              "    </tr>\n",
              "    <tr>\n",
              "      <th>3</th>\n",
              "      <td>/content/gdrive/MyDrive/NTI/Automated Video Su...</td>\n",
              "      <td>/content/gdrive/MyDrive/NTI/Automated Video Su...</td>\n",
              "      <td>1</td>\n",
              "    </tr>\n",
              "    <tr>\n",
              "      <th>4</th>\n",
              "      <td>/content/gdrive/MyDrive/NTI/Automated Video Su...</td>\n",
              "      <td>/content/gdrive/MyDrive/NTI/Automated Video Su...</td>\n",
              "      <td>1</td>\n",
              "    </tr>\n",
              "    <tr>\n",
              "      <th>...</th>\n",
              "      <td>...</td>\n",
              "      <td>...</td>\n",
              "      <td>...</td>\n",
              "    </tr>\n",
              "    <tr>\n",
              "      <th>1995</th>\n",
              "      <td>/content/gdrive/MyDrive/NTI/Automated Video Su...</td>\n",
              "      <td>/content/gdrive/MyDrive/NTI/Automated Video Su...</td>\n",
              "      <td>0</td>\n",
              "    </tr>\n",
              "    <tr>\n",
              "      <th>1996</th>\n",
              "      <td>/content/gdrive/MyDrive/NTI/Automated Video Su...</td>\n",
              "      <td>/content/gdrive/MyDrive/NTI/Automated Video Su...</td>\n",
              "      <td>0</td>\n",
              "    </tr>\n",
              "    <tr>\n",
              "      <th>1997</th>\n",
              "      <td>/content/gdrive/MyDrive/NTI/Automated Video Su...</td>\n",
              "      <td>/content/gdrive/MyDrive/NTI/Automated Video Su...</td>\n",
              "      <td>0</td>\n",
              "    </tr>\n",
              "    <tr>\n",
              "      <th>1998</th>\n",
              "      <td>/content/gdrive/MyDrive/NTI/Automated Video Su...</td>\n",
              "      <td>/content/gdrive/MyDrive/NTI/Automated Video Su...</td>\n",
              "      <td>0</td>\n",
              "    </tr>\n",
              "    <tr>\n",
              "      <th>1999</th>\n",
              "      <td>/content/gdrive/MyDrive/NTI/Automated Video Su...</td>\n",
              "      <td>/content/gdrive/MyDrive/NTI/Automated Video Su...</td>\n",
              "      <td>0</td>\n",
              "    </tr>\n",
              "  </tbody>\n",
              "</table>\n",
              "<p>2000 rows × 3 columns</p>\n",
              "</div>\n",
              "      <button class=\"colab-df-convert\" onclick=\"convertToInteractive('df-34c9fdbc-5154-4fed-80b3-0db04ae4db49')\"\n",
              "              title=\"Convert this dataframe to an interactive table.\"\n",
              "              style=\"display:none;\">\n",
              "        \n",
              "  <svg xmlns=\"http://www.w3.org/2000/svg\" height=\"24px\"viewBox=\"0 0 24 24\"\n",
              "       width=\"24px\">\n",
              "    <path d=\"M0 0h24v24H0V0z\" fill=\"none\"/>\n",
              "    <path d=\"M18.56 5.44l.94 2.06.94-2.06 2.06-.94-2.06-.94-.94-2.06-.94 2.06-2.06.94zm-11 1L8.5 8.5l.94-2.06 2.06-.94-2.06-.94L8.5 2.5l-.94 2.06-2.06.94zm10 10l.94 2.06.94-2.06 2.06-.94-2.06-.94-.94-2.06-.94 2.06-2.06.94z\"/><path d=\"M17.41 7.96l-1.37-1.37c-.4-.4-.92-.59-1.43-.59-.52 0-1.04.2-1.43.59L10.3 9.45l-7.72 7.72c-.78.78-.78 2.05 0 2.83L4 21.41c.39.39.9.59 1.41.59.51 0 1.02-.2 1.41-.59l7.78-7.78 2.81-2.81c.8-.78.8-2.07 0-2.86zM5.41 20L4 18.59l7.72-7.72 1.47 1.35L5.41 20z\"/>\n",
              "  </svg>\n",
              "      </button>\n",
              "      \n",
              "  <style>\n",
              "    .colab-df-container {\n",
              "      display:flex;\n",
              "      flex-wrap:wrap;\n",
              "      gap: 12px;\n",
              "    }\n",
              "\n",
              "    .colab-df-convert {\n",
              "      background-color: #E8F0FE;\n",
              "      border: none;\n",
              "      border-radius: 50%;\n",
              "      cursor: pointer;\n",
              "      display: none;\n",
              "      fill: #1967D2;\n",
              "      height: 32px;\n",
              "      padding: 0 0 0 0;\n",
              "      width: 32px;\n",
              "    }\n",
              "\n",
              "    .colab-df-convert:hover {\n",
              "      background-color: #E2EBFA;\n",
              "      box-shadow: 0px 1px 2px rgba(60, 64, 67, 0.3), 0px 1px 3px 1px rgba(60, 64, 67, 0.15);\n",
              "      fill: #174EA6;\n",
              "    }\n",
              "\n",
              "    [theme=dark] .colab-df-convert {\n",
              "      background-color: #3B4455;\n",
              "      fill: #D2E3FC;\n",
              "    }\n",
              "\n",
              "    [theme=dark] .colab-df-convert:hover {\n",
              "      background-color: #434B5C;\n",
              "      box-shadow: 0px 1px 3px 1px rgba(0, 0, 0, 0.15);\n",
              "      filter: drop-shadow(0px 1px 2px rgba(0, 0, 0, 0.3));\n",
              "      fill: #FFFFFF;\n",
              "    }\n",
              "  </style>\n",
              "\n",
              "      <script>\n",
              "        const buttonEl =\n",
              "          document.querySelector('#df-34c9fdbc-5154-4fed-80b3-0db04ae4db49 button.colab-df-convert');\n",
              "        buttonEl.style.display =\n",
              "          google.colab.kernel.accessAllowed ? 'block' : 'none';\n",
              "\n",
              "        async function convertToInteractive(key) {\n",
              "          const element = document.querySelector('#df-34c9fdbc-5154-4fed-80b3-0db04ae4db49');\n",
              "          const dataTable =\n",
              "            await google.colab.kernel.invokeFunction('convertToInteractive',\n",
              "                                                     [key], {});\n",
              "          if (!dataTable) return;\n",
              "\n",
              "          const docLinkHtml = 'Like what you see? Visit the ' +\n",
              "            '<a target=\"_blank\" href=https://colab.research.google.com/notebooks/data_table.ipynb>data table notebook</a>'\n",
              "            + ' to learn more about interactive tables.';\n",
              "          element.innerHTML = '';\n",
              "          dataTable['output_type'] = 'display_data';\n",
              "          await google.colab.output.renderOutput(dataTable, element);\n",
              "          const docLink = document.createElement('div');\n",
              "          docLink.innerHTML = docLinkHtml;\n",
              "          element.appendChild(docLink);\n",
              "        }\n",
              "      </script>\n",
              "    </div>\n",
              "  </div>\n",
              "  "
            ]
          },
          "metadata": {},
          "execution_count": 16
        }
      ]
    },
    {
      "cell_type": "code",
      "source": [
        "dataset.to_csv('dataset.csv', index=False)"
      ],
      "metadata": {
        "id": "yO55WMm2uYKT"
      },
      "execution_count": null,
      "outputs": []
    },
    {
      "cell_type": "code",
      "source": [
        "from sklearn.model_selection import train_test_split\n",
        "\n",
        "X_train, X_test = train_test_split(dataset, test_size = 0.2, random_state=42)"
      ],
      "metadata": {
        "id": "W8TlNE5YuYNE"
      },
      "execution_count": null,
      "outputs": []
    },
    {
      "cell_type": "code",
      "source": [
        "X_train, X_val = train_test_split(X_train, test_size = 0.2, random_state=42)"
      ],
      "metadata": {
        "id": "sK_G2XLluYPQ"
      },
      "execution_count": null,
      "outputs": []
    },
    {
      "cell_type": "code",
      "source": [
        "X_train.to_csv('/content/gdrive/MyDrive/NTI/Automated Video Surveillance/face_verification/dataframes/train.csv', index=False)\n",
        "X_test.to_csv('/content/gdrive/MyDrive/NTI/Automated Video Surveillance/face_verification/dataframes/test.csv', index=False)\n",
        "X_val.to_csv('/content/gdrive/MyDrive/NTI/Automated Video Surveillance/face_verification/dataframes/val.csv', index=False)"
      ],
      "metadata": {
        "id": "i86goce2ufhF"
      },
      "execution_count": null,
      "outputs": []
    },
    {
      "cell_type": "code",
      "source": [
        "X_train=pd.read_csv('/content/gdrive/MyDrive/NTI/Automated Video Surveillance/face_verification/dataframes/train.csv')\n",
        "X_test=pd.read_csv('/content/gdrive/MyDrive/NTI/Automated Video Surveillance/face_verification/dataframes/test.csv')\n",
        "X_val=pd.read_csv('/content/gdrive/MyDrive/NTI/Automated Video Surveillance/face_verification/dataframes/val.csv')"
      ],
      "metadata": {
        "id": "pAj_05ZVufkg"
      },
      "execution_count": null,
      "outputs": []
    },
    {
      "cell_type": "code",
      "source": [],
      "metadata": {
        "id": "Gq28Oyjiufob"
      },
      "execution_count": null,
      "outputs": []
    },
    {
      "cell_type": "code",
      "source": [
        "import cv2\n",
        "def has_face(image_path):\n",
        "    face_cascade = cv2.CascadeClassifier('/content/gdrive/MyDrive/NTI/Automated Video Surveillance/face_verification/haarcascade_frontalface_default.xml')\n",
        "    img = cv2.imread(image_path)\n",
        "    gray = cv2.cvtColor(img, cv2.COLOR_BGR2GRAY)\n",
        "    faces = face_cascade.detectMultiScale(gray,1.1,4)\n",
        "    print(faces)\n",
        "    print(len(faces))\n",
        "    if len(faces) ==0:\n",
        "        return False\n",
        "    else:\n",
        "        return True"
      ],
      "metadata": {
        "id": "1KIG88cIufrf"
      },
      "execution_count": null,
      "outputs": []
    },
    {
      "cell_type": "code",
      "source": [
        "ss = []\n",
        "paths = os.listdir(raw_sarah)\n",
        "for path in paths:\n",
        "    ss.append(raw_sarah+'/'+path)"
      ],
      "metadata": {
        "id": "CdhDHz8PufuY"
      },
      "execution_count": null,
      "outputs": []
    },
    {
      "cell_type": "code",
      "source": [
        "ss"
      ],
      "metadata": {
        "id": "8aKdZyWuuYRu"
      },
      "execution_count": null,
      "outputs": []
    },
    {
      "cell_type": "code",
      "source": [
        "has_face('/content/gdrive/MyDrive/NTI/Automated Video Surveillance/face_verification/raw images/anc_sarah/4ce6f3b9-e7fc-11ed-8078-5cea1d41f966.jpg')"
      ],
      "metadata": {
        "id": "HaDVht90uYYy",
        "colab": {
          "base_uri": "https://localhost:8080/"
        },
        "outputId": "75e51cc0-f517-4b6b-f8f0-316718ab1a20"
      },
      "execution_count": null,
      "outputs": [
        {
          "output_type": "stream",
          "name": "stdout",
          "text": [
            "[[204  50 188 188]]\n",
            "1\n"
          ]
        },
        {
          "output_type": "execute_result",
          "data": {
            "text/plain": [
              "True"
            ]
          },
          "metadata": {},
          "execution_count": 21
        }
      ]
    },
    {
      "cell_type": "code",
      "source": [
        "img = plt.imread('/content/gdrive/MyDrive/NTI/Automated Video Surveillance/face_verification/raw images/pos_sarah/cac2b5d4-e7fb-11ed-9edc-5cea1d41f966.jpg')\n",
        "plt.imshow(img)"
      ],
      "metadata": {
        "id": "xzF8vaJBbrSj"
      },
      "execution_count": null,
      "outputs": []
    },
    {
      "cell_type": "code",
      "source": [
        "import cv2\n",
        "def crop(image_path):\n",
        "    face_cascade = cv2.CascadeClassifier('/content/gdrive/MyDrive/NTI/Automated Video Surveillance/face_verification/haarcascade_frontalface_default.xml')\n",
        "    img = cv2.imread(image_path)\n",
        "    gray = cv2.cvtColor(img, cv2.COLOR_BGR2GRAY)\n",
        "    faces = face_cascade.detectMultiScale(gray,1.1,4)\n",
        "    print(faces)\n",
        "    print(len(faces))\n",
        "    for (x, y, w, h) in faces:\n",
        "      cv2.rectangle(img, (x, y), (x+w, y+h), (0, 0, 255), 2)\n",
        "      faces = img[y:y + h, x:x + w]\n",
        "      plt.imshow(\"face\",faces)\n",
        "      plt.imwrite('face.jpg', faces)\n",
        ""
      ],
      "metadata": {
        "id": "XV-hlgG9hYyy"
      },
      "execution_count": null,
      "outputs": []
    },
    {
      "cell_type": "code",
      "source": [
        "import cv2\n",
        "\n",
        "# Read the input image\n",
        "img = cv2.imread('/content/gdrive/MyDrive/NTI/Automated Video Surveillance/face_verification/raw images/pos_sarah/cac2b5d4-e7fb-11ed-9edc-5cea1d41f966.jpg')\n",
        "\n",
        "# Convert into grayscale\n",
        "gray = cv2.cvtColor(img, cv2.COLOR_BGR2GRAY)\n",
        "\n",
        "# Load the cascade\n",
        "face_cascade = cv2.CascadeClassifier('/content/gdrive/MyDrive/NTI/Automated Video Surveillance/face_verification/haarcascade_frontalface_default.xml')\n",
        "\n",
        "# Detect faces\n",
        "faces = face_cascade.detectMultiScale(gray, 1.1, 4)\n",
        "\n",
        "# Draw rectangle around the faces and crop the faces\n",
        "for (x, y, w, h) in faces:\n",
        "    cv2.rectangle(img, (x, y), (x+w, y+h), (0, 0, 255), 2)\n",
        "    faces = img[y:y + h, x:x + w]\n",
        "    plt.imshow(\"face\",faces)\n",
        "    plt.imwrite('face.jpg', faces)\n",
        "\n",
        "# Display the output\n",
        "plt.imwrite('detcted.jpg', img)\n",
        "plt.imshow('img', img)\n",
        "plt.waitKey()"
      ],
      "metadata": {
        "id": "CpnrHQ2_cN9J"
      },
      "execution_count": null,
      "outputs": []
    },
    {
      "cell_type": "code",
      "source": [
        "import cv2\n",
        "\n",
        "def crop_face(image_path, cascade_path = '/content/gdrive/MyDrive/NTI/Automated Video Surveillance/face_verification/haarcascade_frontalface_default.xml'):\n",
        "    # Load the image and convert it to grayscale\n",
        "    image = cv2.imread(image_path)\n",
        "    gray = cv2.cvtColor(image, cv2.COLOR_BGR2GRAY)\n",
        "\n",
        "    # Load the cascade classifier for detecting faces\n",
        "    face_cascade = cv2.CascadeClassifier(cascade_path)\n",
        "\n",
        "    # Detect faces in the grayscale image\n",
        "    faces = face_cascade.detectMultiScale(gray, scaleFactor=1.1, minNeighbors=5, minSize=(30, 30))\n",
        "\n",
        "    # If no faces are detected, return None\n",
        "    if len(faces) == 0:\n",
        "        return None\n",
        "\n",
        "    # Otherwise, crop the image around the first detected face\n",
        "    (x, y, w, h) = faces[0]\n",
        "    cropped = image[y:y+h, x:x+w]\n",
        "\n",
        "    return cropped"
      ],
      "metadata": {
        "id": "W3h9uhzIbrXU"
      },
      "execution_count": null,
      "outputs": []
    },
    {
      "cell_type": "code",
      "source": [
        "# Specify the path to the image you want to crop\n",
        "image_path = '/content/gdrive/MyDrive/NTI/Automated Video Surveillance/face_verification/raw images/pos_sarah/cac2b5d4-e7fb-11ed-9edc-5cea1d41f966.jpg'\n",
        "\n",
        "# Specify the path to the OpenCV Haar Cascade classifier for face detection\n",
        "cascade_path = '/content/gdrive/MyDrive/NTI/Automated Video Surveillance/face_verification/haarcascade_frontalface_default.xml'\n",
        "\n",
        "# Call the crop_face function to crop the face from the image\n",
        "cropped_image = crop_face(image_path, cascade_path)\n",
        "\n",
        "# Display the cropped image\n",
        "cv2.imshow('Cropped Image', cropped_image)\n",
        "cv2.waitKey(0)\n",
        "cv2.destroyAllWindows()"
      ],
      "metadata": {
        "id": "NF8SZ_1Ibrb6"
      },
      "execution_count": null,
      "outputs": []
    },
    {
      "cell_type": "code",
      "source": [
        "cropped_image"
      ],
      "metadata": {
        "id": "V1d45-l4breV"
      },
      "execution_count": null,
      "outputs": []
    },
    {
      "cell_type": "code",
      "source": [
        "from google.colab.patches import cv2_imshow\n",
        "import cv2\n",
        "\n",
        "def crop_face(image_path, cascade_path):\n",
        "    # Load the image and convert it to grayscale\n",
        "    image = cv2.imread(image_path)\n",
        "    gray = cv2.cvtColor(image, cv2.COLOR_BGR2GRAY)\n",
        "\n",
        "    # Load the cascade classifier for detecting faces\n",
        "    face_cascade = cv2.CascadeClassifier(cascade_path)\n",
        "\n",
        "    # Detect faces in the grayscale image\n",
        "    faces = face_cascade.detectMultiScale(gray, scaleFactor=1.1, minNeighbors=5, minSize=(30, 30))\n",
        "\n",
        "    # If no faces are detected, return None\n",
        "    if len(faces) == 0:\n",
        "        return 0\n",
        "\n",
        "    # Otherwise, crop the image around the first detected face\n",
        "    (x, y, w, h) = faces[0]\n",
        "    cropped = image[y-15:y+h+20, x-10:x+w+10]\n",
        "\n",
        "    return faces, cropped"
      ],
      "metadata": {
        "id": "mF5YqrXVuYbq"
      },
      "execution_count": null,
      "outputs": []
    },
    {
      "cell_type": "code",
      "source": [
        "img = plt.imread('/content/gdrive/MyDrive/NTI/Automated Video Surveillance/face_verification/raw images/anc_sarah/4ce6f3b9-e7fc-11ed-8078-5cea1d41f966.jpg')\n",
        "plt.imshow(img)"
      ],
      "metadata": {
        "id": "GkrkjrsUnlBi"
      },
      "execution_count": null,
      "outputs": []
    },
    {
      "cell_type": "code",
      "source": [
        "cascade_path = '/content/gdrive/MyDrive/NTI/Automated Video Surveillance/face_verification/haarcascade_frontalface_default.xml'\n",
        "\n",
        "img = crop_face('/content/gdrive/MyDrive/NTI/Automated Video Surveillance/face_verification/raw images/anc_sarah/4ce6f3b9-e7fc-11ed-8078-5cea1d41f966.jpg',cascade_path)"
      ],
      "metadata": {
        "id": "wMGXi1YLoF_K"
      },
      "execution_count": null,
      "outputs": []
    },
    {
      "cell_type": "code",
      "source": [],
      "metadata": {
        "id": "KVBrBeTAoIhN"
      },
      "execution_count": null,
      "outputs": []
    },
    {
      "cell_type": "code",
      "source": [
        "cascade_path = '/content/gdrive/MyDrive/NTI/Automated Video Surveillance/face_verification/haarcascade_frontalface_default.xml'\n",
        "\n",
        "img = crop_face('/content/gdrive/MyDrive/NTI/Automated Video Surveillance/face_verification/raw images/anc_sarah/4ce6f3b9-e7fc-11ed-8078-5cea1d41f966.jpg',cascade_path)"
      ],
      "metadata": {
        "id": "G3_AoDTonWbF"
      },
      "execution_count": null,
      "outputs": []
    },
    {
      "cell_type": "code",
      "source": [],
      "metadata": {
        "id": "2Bn-8Krun257"
      },
      "execution_count": null,
      "outputs": []
    },
    {
      "cell_type": "code",
      "source": [],
      "metadata": {
        "id": "8L7Eavugn28m"
      },
      "execution_count": null,
      "outputs": []
    },
    {
      "cell_type": "code",
      "source": [
        "# Specify the path to the image you want to crop\n",
        "image_path = '/content/gdrive/MyDrive/NTI/Automated Video Surveillance/face_verification/raw images/pos_sarah/cac2b5d4-e7fb-11ed-9edc-5cea1d41f966.jpg'\n",
        "\n",
        "# Specify the path to the OpenCV Haar Cascade classifier for face detection\n",
        "cascade_path = '/content/gdrive/MyDrive/NTI/Automated Video Surveillance/face_verification/haarcascade_frontalface_default.xml'\n",
        "\n",
        "# Call the crop_face function to crop the face from the image\n",
        "cropped_image = crop_face(image_path, cascade_path)\n",
        "\n",
        "# Display the cropped image\n",
        "cv2_imshow( cropped_image)\n",
        "cv2.imwrite('/content/gdrive/MyDrive/NTI/Automated Video Surveillance/face_verification/face_cropped/image_gray.png', cropped_image)\n",
        "cv2.waitKey(0)\n",
        "cv2.destroyAllWindows()"
      ],
      "metadata": {
        "id": "z5IdBplHlt7c"
      },
      "execution_count": null,
      "outputs": []
    },
    {
      "cell_type": "code",
      "source": [
        "ss = []\n",
        "paths = os.listdir(yasmeen_mobil)\n",
        "for path in paths:\n",
        "    ss.append(yasmeen_mobil+'/'+path)"
      ],
      "metadata": {
        "id": "aWg7xP99k0ou"
      },
      "execution_count": null,
      "outputs": []
    },
    {
      "cell_type": "code",
      "source": [
        "from google.colab import drive\n",
        "drive.mount('/content/drive')"
      ],
      "metadata": {
        "id": "gd7Qfx9OtuMN",
        "colab": {
          "base_uri": "https://localhost:8080/"
        },
        "outputId": "d6c96bc3-f25b-42b4-d6cf-ee444ae9a788"
      },
      "execution_count": null,
      "outputs": [
        {
          "output_type": "stream",
          "name": "stdout",
          "text": [
            "Mounted at /content/drive\n"
          ]
        }
      ]
    },
    {
      "cell_type": "code",
      "source": [
        "from google.colab.patches import cv2_imshow\n",
        "import cv2\n",
        "c = 0\n",
        "for path in ss:\n",
        "  # Specify the path to the image you want to crop\n",
        "  image_path = path\n",
        "  # Specify the path to the OpenCV Haar Cascade classifier for face detection\n",
        "  cascade_path = '/content/gdrive/MyDrive/NTI/Automated Video Surveillance/face_verification/haarcascade_frontalface_default.xml'\n",
        "  # Call the crop_face function to crop the face from the image\n",
        "  print(ss)\n",
        "  faces,cropped = crop_face(image_path, cascade_path)\n",
        "  # Display the cropped image\n",
        "  #cv2_imshow( cropped_image)\n",
        "  # cv2.imwrite(                              os.path.join(path, '{}.jpg'.format(uuid.uuid1())), image.numpy())\n",
        "  if len(faces) != 0:\n",
        "    cv2.imwrite('/content/gdrive/MyDrive/NTI/Automated Video Surveillance/face_verification/face_cropped/mobile yaseen cropped/{}.jpg'.format(uuid.uuid1()), cropped)\n",
        "    c = c+1\n",
        "    print(c)\n",
        "  #cv2.waitKey(0)\n",
        "  #cv2.destroyAllWindows()"
      ],
      "metadata": {
        "id": "oxL4KmWLk0sL"
      },
      "execution_count": null,
      "outputs": []
    },
    {
      "cell_type": "code",
      "source": [],
      "metadata": {
        "id": "7kTj8Up6k0u8"
      },
      "execution_count": null,
      "outputs": []
    },
    {
      "cell_type": "code",
      "source": [],
      "metadata": {
        "id": "FsxWafZ4k0xi"
      },
      "execution_count": null,
      "outputs": []
    }
  ]
}